{
  "nbformat": 4,
  "nbformat_minor": 0,
  "metadata": {
    "colab": {
      "provenance": [],
      "authorship_tag": "ABX9TyNGlVprJb6wzASHouH07eai",
      "include_colab_link": true
    },
    "kernelspec": {
      "name": "python3",
      "display_name": "Python 3"
    },
    "language_info": {
      "name": "python"
    }
  },
  "cells": [
    {
      "cell_type": "markdown",
      "metadata": {
        "id": "view-in-github",
        "colab_type": "text"
      },
      "source": [
        "<a href=\"https://colab.research.google.com/github/sumanthgm/Data-Structures-Python/blob/main/Practice.ipynb\" target=\"_parent\"><img src=\"https://colab.research.google.com/assets/colab-badge.svg\" alt=\"Open In Colab\"/></a>"
      ]
    },
    {
      "cell_type": "markdown",
      "source": [
        "<table align=\"left\">\n",
        "    <tr>\n",
        "        <td width=\"6%\">\n",
        "            <img src=\"question_icon.png\">\n",
        "        </td>\n",
        "        <td>\n",
        "            <div align=\"left\", style=\"font-size:120%\">\n",
        "                <font color=\"#21618C\">\n",
        "                    <b>2. Write a program to check whether string contains all alphabets (take input from user) using isalpha()</b>\n",
        "                </font>\n",
        "            </div>\n",
        "        </td>\n",
        "    </tr>\n",
        "</table>\n",
        "\n"
      ],
      "metadata": {
        "id": "pLGhLw33FaTm"
      }
    },
    {
      "cell_type": "code",
      "source": [],
      "metadata": {
        "id": "Vwhm2whaljM1"
      },
      "execution_count": null,
      "outputs": []
    },
    {
      "cell_type": "markdown",
      "source": [],
      "metadata": {
        "id": "FHQFRLmSQ9MQ"
      }
    },
    {
      "cell_type": "code",
      "source": [
        "string=input('Enter the string')\n",
        "string.isalpha()\n"
      ],
      "metadata": {
        "colab": {
          "base_uri": "https://localhost:8080/"
        },
        "id": "io1wpjX6Fh3r",
        "outputId": "43834465-7b23-4c99-ac5e-477903596dfd"
      },
      "execution_count": null,
      "outputs": [
        {
          "name": "stdout",
          "output_type": "stream",
          "text": [
            "Enter the string PYTGON\n"
          ]
        },
        {
          "output_type": "execute_result",
          "data": {
            "text/plain": [
              "False"
            ]
          },
          "metadata": {},
          "execution_count": 6
        }
      ]
    },
    {
      "cell_type": "markdown",
      "source": [
        "<table align=\"left\">\n",
        "    <tr>\n",
        "        <td width=\"6%\">\n",
        "            <img src=\"question_icon.png\">\n",
        "        </td>\n",
        "        <td>\n",
        "            <div align=\"left\", style=\"font-size:120%\">\n",
        "                <font color=\"#21618C\">\n",
        "                    <b>3. Write a program to count number of vowels in a string (take input from user) </b>\n",
        "                </font>\n",
        "            </div>\n",
        "        </td>\n",
        "    </tr>"
      ],
      "metadata": {
        "id": "PaSPIotBG2EO"
      }
    },
    {
      "cell_type": "code",
      "source": [
        "string=input('Enter the String')\n",
        "Vowels=0\n",
        "\n",
        "for i in (string):\n",
        "      if(i=='a' or i=='e' or i=='i' or i=='o' or i=='u' or i=='A' or i=='E' or i=='I' or i=='O' or i=='U'):\n",
        "        Vowels= Vowels+1\n",
        "\n",
        "print('Number of vowels are:',Vowels)\n",
        "\n",
        "\n"
      ],
      "metadata": {
        "colab": {
          "base_uri": "https://localhost:8080/"
        },
        "id": "LFnGojcZG7KX",
        "outputId": "92a2cbf9-c342-45a2-e629-c290bbd00409"
      },
      "execution_count": null,
      "outputs": [
        {
          "output_type": "stream",
          "name": "stdout",
          "text": [
            "Enter the StringSumanth\n",
            "Number of vowels are: 2\n"
          ]
        }
      ]
    },
    {
      "cell_type": "code",
      "source": [],
      "metadata": {
        "id": "3PKtYy0tJI-F"
      },
      "execution_count": null,
      "outputs": []
    },
    {
      "cell_type": "markdown",
      "source": [
        "<table align=\"left\">\n",
        "    <tr>\n",
        "        <td width=\"6%\">\n",
        "            <img src=\"question_icon.png\">\n",
        "        </td>\n",
        "        <td>\n",
        "            <div align=\"left\", style=\"font-size:120%\">\n",
        "                <font color=\"#21618C\">\n",
        "                    <b>4. Write a program to check whether given year is leap year or not (take input from user) </b>\n",
        "                </font>\n",
        "            </div>\n",
        "        </td>\n",
        "    </tr>\n",
        "</table>"
      ],
      "metadata": {
        "id": "aD2RRTdEJJ5V"
      }
    },
    {
      "cell_type": "code",
      "source": [
        "input_year= int(input('Enter the input year'))\n",
        "if (input_year%4)==0:\n",
        "  if (input_year%100)==0:\n",
        "    if (input_year%400)==0:\n",
        "      print(str(input_year),+\"is not leap year\")\n",
        "    else:\n",
        "        print(str(input_year),+\"is not leap year\")\n",
        "  else:\n",
        "    print(str(input_year),+\"is leap year\")\n",
        "else:\n",
        "  print( str(input_year)+\" is not a leap year\")\n",
        "\n",
        "\n",
        "\n",
        "\n"
      ],
      "metadata": {
        "colab": {
          "base_uri": "https://localhost:8080/"
        },
        "id": "5_uIzlVBJM49",
        "outputId": "99980acd-d151-4297-9db9-14f16eeb2bc7"
      },
      "execution_count": null,
      "outputs": [
        {
          "output_type": "stream",
          "name": "stdout",
          "text": [
            "Enter the input year2025\n",
            "2025 is not a leap year\n"
          ]
        }
      ]
    },
    {
      "cell_type": "markdown",
      "source": [
        "<table align=\"left\">\n",
        "    <tr>\n",
        "        <td width=\"6%\">\n",
        "            <img src=\"question_icon.png\">\n",
        "        </td>\n",
        "        <td>\n",
        "            <div align=\"left\", style=\"font-size:120%\">\n",
        "                <font color=\"#21618C\">\n",
        "                    <b>6. Write a program to print Armstrong number in the interval from 100 to 2000</b>\n",
        "                </font>\n",
        "            </div>\n",
        "        </td>\n",
        "    </tr>\n",
        "</table>`\n"
      ],
      "metadata": {
        "id": "bCTHnQaYnPUp"
      }
    },
    {
      "cell_type": "code",
      "source": [
        "a=100\n",
        "b=2000\n",
        "for n in range (a,b+1):\n",
        "  order= len(str(n))\n",
        "  sum=0\n",
        "  temp=n\n",
        "  while temp>0:\n",
        "      degit=temp%10\n",
        "      sum+=degit**3\n",
        "      temp//=10\n",
        "  if sum==n:\n",
        "    print(n)\n",
        "\n",
        "# lower_number = 100\n",
        "# upper_number= 2000\n",
        "# for num in range(lower_number, upper_number + 1): # upper_number + 1 => because in python indexing strats from 0\n",
        "#     order = len(str(num)) # order of number\n",
        "#     sum = 0  # initialize sum\n",
        "#     temp = num\n",
        "#     while temp > 0:\n",
        "#         digit = temp % 10\n",
        "#         sum += digit ** order\n",
        "#         temp //= 10\n",
        "#     if num == sum:\n",
        "#         print(num)\n",
        "\n"
      ],
      "metadata": {
        "colab": {
          "base_uri": "https://localhost:8080/"
        },
        "id": "d97qr-YynSfE",
        "outputId": "d2d3d3d6-358d-4623-9e32-bd6b82cf4489"
      },
      "execution_count": null,
      "outputs": [
        {
          "output_type": "stream",
          "name": "stdout",
          "text": [
            "153\n",
            "370\n",
            "371\n",
            "407\n"
          ]
        }
      ]
    },
    {
      "cell_type": "markdown",
      "source": [
        "<table align=\"left\">\n",
        "    <tr>\n",
        "        <td width=\"6%\">\n",
        "            <img src=\"question_icon.png\">\n",
        "        </td>\n",
        "        <td>\n",
        "            <div align=\"left\", style=\"font-size:120%\">\n",
        "                <font color=\"#21618C\">\n",
        "                    <b>7. Write a program to remove punctuations from a string (take a string containing punctuations as an input from user)</b>\n",
        "                </font>\n",
        "            </div>\n",
        "        </td>\n",
        "    </tr>\n",
        "</table>"
      ],
      "metadata": {
        "id": "O8Muv3xI56uP"
      }
    },
    {
      "cell_type": "code",
      "source": [
        "puntuation='''!()-[]{};:'\"\\,<>./?@#$%^&*_~'''\n",
        "my_string= input('Eneter the input string')\n",
        "no_punct=''\n",
        "for char in (my_string):\n",
        "  if char not in puntuation:\n",
        "      no_punct= no_punct+char\n",
        "print(no_punct)\n",
        "\n"
      ],
      "metadata": {
        "colab": {
          "base_uri": "https://localhost:8080/"
        },
        "id": "XV--kRd_6DNl",
        "outputId": "bc3b90e1-6f0c-4917-c9ab-b3400b3ca99a"
      },
      "execution_count": null,
      "outputs": [
        {
          "output_type": "stream",
          "name": "stdout",
          "text": [
            "Eneter the input stringsum<\n",
            "sum\n"
          ]
        }
      ]
    },
    {
      "cell_type": "markdown",
      "source": [
        "<table align=\"left\">\n",
        "    <tr>\n",
        "        <td width=\"6%\">\n",
        "            <img src=\"question_icon.png\">\n",
        "        </td>\n",
        "        <td>\n",
        "            <div align=\"left\", style=\"font-size:120%\">\n",
        "                <font color=\"#21618C\">\n",
        "                    <b>8. Write a program to swap 2 numbers without using temporary variable (take two numbers from user) </b>\n",
        "                </font>\n",
        "            </div>\n",
        "        </td>\n",
        "    </tr>\n",
        "</table>"
      ],
      "metadata": {
        "id": "kW7iLypR8pJy"
      }
    },
    {
      "cell_type": "code",
      "source": [
        "x=int(input('enter the 1 st number:'))\n",
        "y=int(input('enetr the 2 nd number:'))\n",
        "x=x+y\n",
        "y=x-y\n",
        "x=x-y\n",
        "print('x:',x,'y:',y)"
      ],
      "metadata": {
        "colab": {
          "base_uri": "https://localhost:8080/"
        },
        "id": "YVfeLmPz8t9X",
        "outputId": "8ebddb69-d895-4349-bd2a-53e64217be2d"
      },
      "execution_count": null,
      "outputs": [
        {
          "output_type": "stream",
          "name": "stdout",
          "text": [
            "enter the 1 st number:10\n",
            "enetr the 2 nd number:20\n",
            "x: 20 y: 10\n"
          ]
        }
      ]
    },
    {
      "cell_type": "code",
      "source": [],
      "metadata": {
        "id": "AE4QbCj8985T"
      },
      "execution_count": null,
      "outputs": []
    },
    {
      "cell_type": "markdown",
      "source": [
        "<table align=\"left\">\n",
        "    <tr>\n",
        "        <td width=\"6%\">\n",
        "            <img src=\"question_icon.png\">\n",
        "        </td>\n",
        "        <td>\n",
        "            <div align=\"left\", style=\"font-size:120%\">\n",
        "                <font color=\"#21618C\">\n",
        "                    <b>9. Write a program to print product of two numbers</b>\n",
        "                    <br><br>\n",
        "                    <b> a=10 ; b=\"15\"  </b>\n",
        "                </font>\n",
        "            </div>\n",
        "        </td>\n",
        "    </tr>\n",
        "</table>"
      ],
      "metadata": {
        "id": "IXG-HbYu-AD5"
      }
    },
    {
      "cell_type": "code",
      "source": [
        "x=int(input('enter the 1 st number:'))\n",
        "y=int(input('enetr the 2 nd number:'))\n",
        "product_x=x**2\n",
        "product_y=y**2\n",
        "print(product_x,product_y)"
      ],
      "metadata": {
        "colab": {
          "base_uri": "https://localhost:8080/"
        },
        "id": "kDRa-_64-Blj",
        "outputId": "7718f40b-5d9d-4dfd-e9d6-12e1f79e6d14"
      },
      "execution_count": null,
      "outputs": [
        {
          "output_type": "stream",
          "name": "stdout",
          "text": [
            "enter the 1 st number:10\n",
            "enetr the 2 nd number:20\n",
            "100 400\n"
          ]
        }
      ]
    },
    {
      "cell_type": "markdown",
      "source": [
        "<table align=\"left\">\n",
        "    <tr>\n",
        "        <td width=\"6%\">\n",
        "            <img src=\"question_icon.png\">\n",
        "        </td>\n",
        "        <td>\n",
        "            <div align=\"left\", style=\"font-size:120%\">\n",
        "                <font color=\"#21618C\">\n",
        "                    <b>13. Write a program to fetch the words from the given list which have their first character in uppercase.</b>\n",
        "                </font>\n",
        "            </div>\n",
        "        </td>\n",
        "    </tr>\n",
        "</table>"
      ],
      "metadata": {
        "id": "dH2MjWMO_tGf"
      }
    },
    {
      "cell_type": "code",
      "source": [
        "namesList = ['santa Maria', 'Hello World','Merry christmas', 'tHank You']\n",
        "solutionList=[]\n",
        "\n",
        "for name in namesList:\n",
        "    namevar=name.split()\n",
        "    for i in range (len(namevar)):\n",
        "      if namevar[i][0].isupper():\n",
        "        solutionList.append(namevar[i])\n",
        "\n",
        "print(solutionList)\n",
        "\n"
      ],
      "metadata": {
        "colab": {
          "base_uri": "https://localhost:8080/"
        },
        "id": "FBAbz3Ji_t23",
        "outputId": "664cba08-02f3-46c2-d742-31375e50d600"
      },
      "execution_count": null,
      "outputs": [
        {
          "output_type": "stream",
          "name": "stdout",
          "text": [
            "['Maria', 'Hello', 'World', 'Merry', 'You']\n"
          ]
        }
      ]
    },
    {
      "cell_type": "code",
      "source": [],
      "metadata": {
        "id": "AhJbmK2iEC-u"
      },
      "execution_count": null,
      "outputs": []
    },
    {
      "cell_type": "markdown",
      "source": [
        "<table align=\"left\">\n",
        "    <tr>\n",
        "        <td width=\"6%\">\n",
        "            <img src=\"question_icon.png\">\n",
        "        </td>\n",
        "        <td>\n",
        "            <div align=\"left\", style=\"font-size:120%\">\n",
        "                <font color=\"#21618C\">\n",
        "                    <b>14. A list of dates (dd-mm-yyyy) in the form of string is given below. Create a new list that stores years i.e. the 'yyyy' part from the dates in the given list.</b>\n",
        "                </font>\n",
        "            </div>\n",
        "        </td>\n",
        "    </tr>\n",
        "</table>\n",
        "\n",
        "<b>datesList = ['17-12-1997','22-04-2011','01-05-1993','19-06-2020']</b><br>\n",
        "<b>Output: ['1997','2011','1993','2020']</b>"
      ],
      "metadata": {
        "id": "qhbgeesqEDhy"
      }
    },
    {
      "cell_type": "code",
      "source": [
        "data= ['17-12-1997','22-04-2011','01-05-1993','19-06-2020']\n",
        "year=[]\n",
        "for i in data :\n",
        "  year.append(i.split('-')[2])\n",
        "print(year)\n"
      ],
      "metadata": {
        "colab": {
          "base_uri": "https://localhost:8080/"
        },
        "id": "jSyh-_BqoeE9",
        "outputId": "925c5d01-54b1-4bdb-8a81-17097fa3ab9b"
      },
      "execution_count": null,
      "outputs": [
        {
          "output_type": "stream",
          "name": "stdout",
          "text": [
            "['1997', '2011', '1993', '2020']\n"
          ]
        }
      ]
    },
    {
      "cell_type": "code",
      "source": [
        "datesList = ['17-12-1997','22-04-2011','01-05-1993','19-06-2020']\n",
        "year = []                # An empty list for appending the output\n",
        "for date in datesList:   # Iterating each element from datesList\n",
        "    year.append(date.split('-')[2])   # split('-') will split the element in a list w.r.t '-'. Then appending the 3rd element from the splitter list.\n",
        "\n",
        "print(year)              # Printing the output"
      ],
      "metadata": {
        "colab": {
          "base_uri": "https://localhost:8080/"
        },
        "id": "sRh89vl2oXtT",
        "outputId": "ad2d4396-edd4-4f6e-ae3d-0cfa2868eb4e"
      },
      "execution_count": null,
      "outputs": [
        {
          "output_type": "stream",
          "name": "stdout",
          "text": [
            "['1997', '2011', '1993', '2020']\n"
          ]
        }
      ]
    },
    {
      "cell_type": "code",
      "source": [],
      "metadata": {
        "id": "v9C1e-rJqnX2"
      },
      "execution_count": null,
      "outputs": []
    },
    {
      "cell_type": "markdown",
      "source": [
        "<table align=\"left\">\n",
        "    <tr>\n",
        "        <td width=\"6%\">\n",
        "            <img src=\"question_icon.png\">\n",
        "        </td>\n",
        "        <td>\n",
        "            <div align=\"left\", style=\"font-size:120%\">\n",
        "                <font color=\"#21618C\">\n",
        "                    <b>16. Consider the string (quote) given below. Print a string having unique words from the quote (Remove the duplicates from a string and return a new string without duplicates).<br><br> Note: Do not use any string inbuilt function. Also do not use set()</b>\n",
        "                </font>\n",
        "            </div>\n",
        "        </td>\n",
        "    </tr>\n",
        "</table>\n",
        "<b>quote = \"God made man man made money money made man mad\"</b><br>\n",
        "<b>Output: God made man money mad</b>"
      ],
      "metadata": {
        "id": "DNAogvpoqt23"
      }
    },
    {
      "cell_type": "code",
      "source": [
        "data=\"God made man man made money money made man mad\"\n",
        "names=data.split()\n",
        "newlst=[]\n",
        "\n",
        "for i in names:\n",
        "   if i not in newlst:\n",
        "      newlst.append(i)\n",
        "\n",
        "print(newlst)\n",
        "\n",
        "# quote = \"God made man man made money money made man mad\"\n",
        "# lst = quote.split()             # split() will split the string on ' ' and put the splitted elements in the list 'lst'.\n",
        "# newlst = []                     # Creating an empty list\n",
        "# new_s = \" \"                     # Creating an empty string to store the output that will not have duplicates\n",
        "\n",
        "# for word in lst:                # Iterating each word from the splitted list.\n",
        "#     if word not in newlst:      # Returns True if the word is not present in the empty list 'newlst'.\n",
        "#         newlst.append(word)     # If the above condition is satisfied, then that wordis appended to the newlst\n",
        "\n",
        "# new_s = new_s.join(newlst)      # join() joins the list to the string on ' '.\n",
        "# print(new_s)"
      ],
      "metadata": {
        "colab": {
          "base_uri": "https://localhost:8080/"
        },
        "id": "pCWaX88uqujs",
        "outputId": "c51f43e7-e9ab-4ed8-a13b-6e1da2e2c05f"
      },
      "execution_count": null,
      "outputs": [
        {
          "output_type": "stream",
          "name": "stdout",
          "text": [
            "['God', 'made', 'man', 'money', 'mad']\n"
          ]
        }
      ]
    },
    {
      "cell_type": "code",
      "source": [],
      "metadata": {
        "colab": {
          "base_uri": "https://localhost:8080/"
        },
        "id": "7K82XKNwsQh3",
        "outputId": "a77055e6-3d69-4654-de55-86200b69e8af"
      },
      "execution_count": null,
      "outputs": [
        {
          "output_type": "stream",
          "name": "stdout",
          "text": [
            "God made man money mad\n"
          ]
        }
      ]
    },
    {
      "cell_type": "markdown",
      "source": [
        "<table align=\"left\">\n",
        "    <tr>\n",
        "        <td width=\"8%\">\n",
        "            <img src=\"question_icon.png\">\n",
        "        </td>\n",
        "        <td>\n",
        "            <div align=\"left\", style=\"font-size:120%\">\n",
        "                <font color=\"#21618C\">\n",
        "                    <b>17. Sort all the elements of the list according to the first letter, irrespective of their cases (uppercase or lowercase)<b>Condition : Do not use any inbuilt sorting function.</b>\n",
        "                </font>\n",
        "            </div>\n",
        "        </td>\n",
        "    </tr>\n",
        "</table>\n"
      ],
      "metadata": {
        "id": "nnJHIxpnvKjW"
      }
    },
    {
      "cell_type": "markdown",
      "source": [
        "<b>languages = ['python', 'R', 'Java', 'scala', 'C', 'C++']</b><br>\n",
        "<b>Output: ['C', 'C++', 'Java', 'python', 'R', 'scala']</b>"
      ],
      "metadata": {
        "id": "FUv6IgYAxByY"
      }
    },
    {
      "cell_type": "code",
      "source": [
        "languages = ['python', 'R', 'Java', 'scala', 'C', 'C++']\n",
        "# print(len(languages))\n",
        "\n",
        "for i in range(len(languages)):      # Iterating through the list\n",
        "    for j in range(i+1, len(languages)):      # Iterating through the same list but with indices i+1\n",
        "        if(languages[i][0].lower() > languages[j][0].lower()):    # Comparing the first characters of the words at index i and i+1.\n",
        "            languages[i], languages[j] = languages[j], languages[i]     # Swapping the words position if the above condition is met.\n",
        "\n",
        "print(languages)"
      ],
      "metadata": {
        "colab": {
          "base_uri": "https://localhost:8080/"
        },
        "id": "dMkjEFMbxDqv",
        "outputId": "106b3e4d-c4d5-40f7-806c-f94087736b1f"
      },
      "execution_count": null,
      "outputs": [
        {
          "output_type": "stream",
          "name": "stdout",
          "text": [
            "['C', 'C++', 'Java', 'python', 'R', 'scala']\n"
          ]
        }
      ]
    },
    {
      "cell_type": "code",
      "source": [],
      "metadata": {
        "id": "Pwb87JTS11xC"
      },
      "execution_count": null,
      "outputs": []
    },
    {
      "cell_type": "markdown",
      "source": [],
      "metadata": {
        "id": "-nfG-nLm2CA5"
      }
    },
    {
      "cell_type": "code",
      "source": [],
      "metadata": {
        "id": "le7roOFAIfE5"
      },
      "execution_count": null,
      "outputs": []
    },
    {
      "cell_type": "markdown",
      "source": [
        "<table align=\"left\">\n",
        "    <tr>\n",
        "        <td width=\"6%\">\n",
        "            <img src=\"question_icon.png\">\n",
        "        </td>\n",
        "        <td>\n",
        "            <div align=\"left\", style=\"font-size:120%\">\n",
        "                <font color=\"#21618C\">\n",
        "                    <b> 21. A list of Power Levels of superheroes is given. Also, the Category is provided according to the range for information. Group the heroes(in list) as per their corresponding category according to the power levels.</b><br>\n",
        "                    <br>\n",
        "                    <b> Sample Output: God_like = ['Thor', 'Thanos']</b>\n",
        "                </font>\n",
        "            </div>\n",
        "        </td>\n",
        "    </tr>\n",
        "</table>"
      ],
      "metadata": {
        "id": "tQle3uThPnSu"
      }
    },
    {
      "cell_type": "code",
      "source": [],
      "metadata": {
        "id": "YETc93lVPmNg"
      },
      "execution_count": null,
      "outputs": []
    },
    {
      "cell_type": "markdown",
      "source": [
        "<table align=\"left\">\n",
        "    <tr>\n",
        "        <td width=\"6%\">\n",
        "            <img src=\"question_icon.png\">\n",
        "        </td>\n",
        "        <td>\n",
        "            <div align=\"left\", style=\"font-size:120%\">\n",
        "                <font color=\"#21618C\">\n",
        "                    <b>1. Write a program to print following pattern</b>\n",
        "                    <br>\n",
        "                 </font>\n",
        "            </div>\n",
        "        </td>\n",
        "    </tr>\n",
        "</table>"
      ],
      "metadata": {
        "id": "nk1pFwknQ-i8"
      }
    },
    {
      "cell_type": "code",
      "source": [
        "number=6\n",
        "Asci_number=65\n",
        "for i in range (number):\n",
        "  for j in range (i+1):\n",
        "      asci= chr(Asci_number)\n",
        "      print(asci,end=\" \")\n",
        "      Asci_number+=1\n",
        "  print()\n"
      ],
      "metadata": {
        "colab": {
          "base_uri": "https://localhost:8080/"
        },
        "id": "CW0xZTzIQ_Cv",
        "outputId": "79a1ad26-468f-47d2-e3d9-1abeda928cef"
      },
      "execution_count": null,
      "outputs": [
        {
          "output_type": "stream",
          "name": "stdout",
          "text": [
            "A \n",
            "B C \n",
            "D E F \n",
            "G H I J \n",
            "K L M N O \n",
            "P Q R S T U \n"
          ]
        }
      ]
    },
    {
      "cell_type": "markdown",
      "source": [
        "<table align=\"left\">\n",
        "    <tr>\n",
        "        <td width=\"6%\">\n",
        "            <img src=\"question_icon.png\">\n",
        "        </td>\n",
        "        <td>\n",
        "            <div align=\"left\", style=\"font-size:120%\">\n",
        "                <font color=\"#21618C\">\n",
        "                    <b>2. Write a program to print tables from 2 to a user provided range (take number from user)\n",
        "                 </font>\n",
        "            </div>\n",
        "        </td>\n",
        "    </tr>\n",
        "</table>"
      ],
      "metadata": {
        "id": "-rxfUGwLTfir"
      }
    },
    {
      "cell_type": "code",
      "source": [
        "# In= int(input('Enetr the customer range input'))\n",
        "\n",
        "# for i in range (2,In):\n",
        "\n",
        "# range_num = int(input('Enter a number in range: '))\n",
        "\n",
        "# for n in range(2 , range_num + 1):\n",
        "#     for i in range(1,11):\n",
        "#         print(n, ' X ', i, ' = ', n*i)\n",
        "#     print(\"\\n\")\n",
        "\n",
        "range_num = int(input('Enter a number in range: '))\n",
        "for i in range (2, range_num+1):\n",
        "  for j in range (1,11):\n",
        "    print(i,'X',j,\"=\",i*j)\n",
        "  print(\"\\n\")"
      ],
      "metadata": {
        "colab": {
          "base_uri": "https://localhost:8080/"
        },
        "id": "B_P4BDbwTgI0",
        "outputId": "49cc781b-57d4-47f8-cc15-d286fc67d7c2"
      },
      "execution_count": null,
      "outputs": [
        {
          "output_type": "stream",
          "name": "stdout",
          "text": [
            "Enter a number in range: 5\n",
            "2 X 1 = 2\n",
            "2 X 2 = 4\n",
            "2 X 3 = 6\n",
            "2 X 4 = 8\n",
            "2 X 5 = 10\n",
            "2 X 6 = 12\n",
            "2 X 7 = 14\n",
            "2 X 8 = 16\n",
            "2 X 9 = 18\n",
            "2 X 10 = 20\n",
            "\n",
            "\n",
            "3 X 1 = 3\n",
            "3 X 2 = 6\n",
            "3 X 3 = 9\n",
            "3 X 4 = 12\n",
            "3 X 5 = 15\n",
            "3 X 6 = 18\n",
            "3 X 7 = 21\n",
            "3 X 8 = 24\n",
            "3 X 9 = 27\n",
            "3 X 10 = 30\n",
            "\n",
            "\n",
            "4 X 1 = 4\n",
            "4 X 2 = 8\n",
            "4 X 3 = 12\n",
            "4 X 4 = 16\n",
            "4 X 5 = 20\n",
            "4 X 6 = 24\n",
            "4 X 7 = 28\n",
            "4 X 8 = 32\n",
            "4 X 9 = 36\n",
            "4 X 10 = 40\n",
            "\n",
            "\n",
            "5 X 1 = 5\n",
            "5 X 2 = 10\n",
            "5 X 3 = 15\n",
            "5 X 4 = 20\n",
            "5 X 5 = 25\n",
            "5 X 6 = 30\n",
            "5 X 7 = 35\n",
            "5 X 8 = 40\n",
            "5 X 9 = 45\n",
            "5 X 10 = 50\n",
            "\n",
            "\n"
          ]
        }
      ]
    },
    {
      "cell_type": "code",
      "source": [],
      "metadata": {
        "id": "AHWKL-Swlkmr"
      },
      "execution_count": null,
      "outputs": []
    },
    {
      "cell_type": "markdown",
      "source": [
        "13. Create a dictionary containing four lambda functions square, cube, squareroot, multiply by 2.\n",
        "\n",
        "E.g. dict = {'Square': function for squaring, 'Cube': function for cube, 'Squareroot': function for squareroot, 'Double': function for double} and so on\n",
        "\n",
        "Pass the values (input from the user) to the functions in the dictionary respectively. Then add the outputs of each function and print it."
      ],
      "metadata": {
        "id": "JVtvfq2CmA5H"
      }
    },
    {
      "cell_type": "code",
      "source": [
        "# Take input from user for each function parameter inside the dictionary\n",
        "inpsq = int(input('Enter first number: '))\n",
        "inpcu = int(input('Enter second number: '))\n",
        "inproot = int(input('Enter third number: '))\n",
        "inpdouble = int(input('Enter forth number: '))\n",
        "\n",
        "\n",
        "diclamda={'square':lambda x:x**2,'Cube':lambda x:x**3,'Root':lambda x:(x**0.5),'Double':lambda x:x*2}\n",
        "print (diclamda['square'](inpsq))\n",
        "result=diclamda['square'](inpsq)+diclamda['Cube'](inpcu)+diclamda['Root'](inproot)+diclamda['Double'](inpdouble)\n",
        "\n",
        "print(result)"
      ],
      "metadata": {
        "colab": {
          "base_uri": "https://localhost:8080/"
        },
        "id": "DFigR-6TmBo8",
        "outputId": "c61c2542-8559-4f41-bbb2-07cef55f8e0d"
      },
      "execution_count": null,
      "outputs": [
        {
          "output_type": "stream",
          "name": "stdout",
          "text": [
            "Enter first number: 2\n",
            "Enter second number: 2\n",
            "Enter third number: 2\n",
            "Enter forth number: 2\n",
            "4\n",
            "17.414213562373096\n"
          ]
        }
      ]
    },
    {
      "cell_type": "markdown",
      "source": [
        "<table align=\"left\">\n",
        "    <tr>\n",
        "        <td width=\"6%\">\n",
        "            <img src=\"question_icon.png\">\n",
        "        </td>\n",
        "        <td>\n",
        "            <div align=\"left\", style=\"font-size:120%\">\n",
        "                <font color=\"#21618C\">\n",
        "                    <b>14. A list of words is given. Find the words from the list that have their second character in uppercase.</b>\n",
        "                </font>\n",
        "            </div>\n",
        "        </td>\n",
        "    </tr>\n",
        "</table>"
      ],
      "metadata": {
        "id": "IGBsFwP4temY"
      }
    },
    {
      "cell_type": "markdown",
      "source": [
        "<b>ls = ['hello', 'Dear', 'hOw', 'ARe', 'You']</b><br>\n",
        "<b>Output: ['hOw', 'ARe']</b>"
      ],
      "metadata": {
        "id": "hS5rGkQ0tmYh"
      }
    },
    {
      "cell_type": "code",
      "source": [
        "words=['hello', 'Dear', 'hOw', 'ARe', 'You']\n",
        "\n",
        "def functionNames(x):\n",
        "    if x[1].isupper():\n",
        "        return True\n",
        "    else:\n",
        "        False\n",
        "\n",
        "list (filter(functionNames,words))\n",
        "\n",
        "\n",
        "# words = ['hello', 'Dear', 'hOw', 'ARe', 'You']\n",
        "\n",
        "# def filterNames(x):                 # Creating a function filterNames(parameter) that will return the result as a boolean value\n",
        "#     if x[1].isupper():              # Checking whether the second character of the word fromthe list 'ls' is in upper case or not.\n",
        "#         return True\n",
        "#     else:\n",
        "#         return False\n",
        "# list(filter(filterNames, words))\n"
      ],
      "metadata": {
        "colab": {
          "base_uri": "https://localhost:8080/"
        },
        "id": "gSIm4mV6tnVi",
        "outputId": "95e89c80-3555-472c-d295-c0ea0b8dd69d"
      },
      "execution_count": null,
      "outputs": [
        {
          "output_type": "execute_result",
          "data": {
            "text/plain": [
              "['hOw', 'ARe']"
            ]
          },
          "metadata": {},
          "execution_count": 40
        }
      ]
    },
    {
      "cell_type": "markdown",
      "source": [
        "<table align=\"left\">\n",
        "    <tr>\n",
        "        <td width=\"6%\">\n",
        "            <img src=\"question_icon.png\">\n",
        "        </td>\n",
        "        <td>\n",
        "            <div align=\"left\", style=\"font-size:120%\">\n",
        "                <font color=\"#21618C\">\n",
        "                    <b>15. Filter the marks from the tuple \"tmarks\" that are  greater than 40 and print corresponding names from the \"tnames\" tuple.</b><br><br>\n",
        "                </font>\n",
        "            </div>\n",
        "        </td>\n",
        "    </tr>\n",
        "</table>"
      ],
      "metadata": {
        "id": "jxxdhScIxtCB"
      }
    },
    {
      "cell_type": "markdown",
      "source": [
        "<b>tnames = ('John','Sharon','Jack','Annie')</b><br>\n",
        "<b>tmarks = (32,50,75,12)</b>"
      ],
      "metadata": {
        "id": "tXcUVzxmxwqH"
      }
    },
    {
      "cell_type": "code",
      "source": [
        "tnames = ('John','Sharon','Jack','Annie')\n",
        "tmarks = (32,50,75,12)\n",
        "\n",
        "def sorttmark(x):\n",
        "  if x>40:\n",
        "    return True\n",
        "  else:\n",
        "    return False\n",
        "marks= list(filter(sorttmark,tmarks))\n",
        "for j in marks:\n",
        "  print(tnames[tmarks.index(j)])\n",
        "\n",
        "# tnames = ('John','Sharon','Jack','Annie')     # Tuple with names of the students\n",
        "# tmarks = (32,50,75,12)                        # Tuplw with marks of the respective students from 'tnames'\n",
        "\n",
        "# def filterMarks(x):                           # Creating a function to check if the marks are above 40. Returns Boolean value.\n",
        "#     if x > 40:                                # Check if marks are greater than 40. If yes,\n",
        "#         return True                           # Return True\n",
        "#     else:                                     # Else return False\n",
        "#         return False\n",
        "\n",
        "# marks = list(filter(filterMarks, tmarks))     # A list of marks that are greater than 40 is stored in marks variable\n",
        "\n",
        "# for j in marks:                               # Iterating through the marks list\n",
        "#     print(tnames[tmarks.index(j)])\n",
        "\n"
      ],
      "metadata": {
        "colab": {
          "base_uri": "https://localhost:8080/"
        },
        "id": "l161wsHixtoW",
        "outputId": "4698a963-812c-4874-9103-e896e863de8b"
      },
      "execution_count": null,
      "outputs": [
        {
          "output_type": "stream",
          "name": "stdout",
          "text": [
            "Sharon\n",
            "Jack\n"
          ]
        }
      ]
    },
    {
      "cell_type": "markdown",
      "source": [
        "<table align=\"left\">\n",
        "    <tr>\n",
        "        <td width=\"6%\">\n",
        "            <img src=\"question_icon.png\">\n",
        "        </td>\n",
        "        <td>\n",
        "            <div align=\"left\", style=\"font-size:120%\">\n",
        "                <font color=\"#21618C\">\n",
        "                    <b>1. Create an array of integers from 20 to 2 with a step of -2\n",
        "</b>\n",
        "                </font>\n",
        "            </div>\n",
        "        </td>\n",
        "    </tr>\n",
        "</table>"
      ],
      "metadata": {
        "id": "6_U-obG-fbq4"
      }
    },
    {
      "cell_type": "code",
      "source": [
        "import numpy as np\n",
        "array= np.arange(20,2,-2)\n",
        "array"
      ],
      "metadata": {
        "colab": {
          "base_uri": "https://localhost:8080/"
        },
        "id": "niZoohRpfa2v",
        "outputId": "cf2219d4-59d3-43b2-db36-a607bfd05d70"
      },
      "execution_count": 5,
      "outputs": [
        {
          "output_type": "execute_result",
          "data": {
            "text/plain": [
              "array([20, 18, 16, 14, 12, 10,  8,  6,  4])"
            ]
          },
          "metadata": {},
          "execution_count": 5
        }
      ]
    },
    {
      "cell_type": "markdown",
      "source": [
        "<table align=\"left\">\n",
        "    <tr>\n",
        "        <td width=\"6%\">\n",
        "            <img src=\"question_icon.png\">\n",
        "        </td>\n",
        "        <td>\n",
        "            <div align=\"left\", style=\"font-size:120%\">\n",
        "                <font color=\"#21618C\">\n",
        "                    <b>2. Find the minimum value along with the row\n",
        "</b>\n",
        "                </font>\n",
        "            </div>\n",
        "        </td>\n",
        "    </tr>\n",
        "</table>\n"
      ],
      "metadata": {
        "id": "jS3SWiL4geY3"
      }
    },
    {
      "cell_type": "markdown",
      "source": [
        "#### Create a 2D Numpy array from list of lists\n",
        "arr2D = np.array([[110, 102, 183],\n",
        "                     [140, 175, 106],\n",
        "                     [170, 195, 117],\n",
        "                     [192, 140, 195]])"
      ],
      "metadata": {
        "id": "EBGQb8FWhpeP"
      }
    },
    {
      "cell_type": "code",
      "source": [
        "arr2D=np.array([[110, 102, 183],\n",
        "                [140, 175, 106],\n",
        "                [170, 195, 117],\n",
        "                [192, 140, 195]])\n",
        "finmin=np.amin(arr2D,axis=1)\n",
        "finmin"
      ],
      "metadata": {
        "colab": {
          "base_uri": "https://localhost:8080/"
        },
        "id": "TM9376BrfmEw",
        "outputId": "a7b0a92e-fb30-42d8-e999-9e0400d7925d"
      },
      "execution_count": 12,
      "outputs": [
        {
          "output_type": "execute_result",
          "data": {
            "text/plain": [
              "array([102, 106, 117, 140])"
            ]
          },
          "metadata": {},
          "execution_count": 12
        }
      ]
    },
    {
      "cell_type": "markdown",
      "source": [
        "<table align=\"left\">\n",
        "    <tr>\n",
        "        <td width=\"6%\">\n",
        "            <img src=\"question_icon.png\">\n",
        "        </td>\n",
        "        <td>\n",
        "            <div align=\"left\", style=\"font-size:120%\">\n",
        "                <font color=\"#21618C\">\n",
        "                    <b>3. Replace all odd numbers in array with -2\n",
        "</b>\n",
        "                </font>\n",
        "            </div>\n",
        "        </td>\n",
        "    </tr>\n",
        "</table>"
      ],
      "metadata": {
        "id": "4dsI0W1SkBAB"
      }
    },
    {
      "cell_type": "markdown",
      "source": [
        "**Use the array given below**<br>\n",
        "arr = np.array([0, 31, 42, 43, 34, 45, 26, 27, 38, 94, 65, 78, 76])"
      ],
      "metadata": {
        "id": "wqpzINJjkDmq"
      }
    },
    {
      "cell_type": "code",
      "source": [
        "arr=np.array([0,31,42,43,34,45,26,27,38,94,65,78,76])\n",
        "out=np.where(arr%2==1,-2,arr)\n",
        "out"
      ],
      "metadata": {
        "colab": {
          "base_uri": "https://localhost:8080/"
        },
        "id": "zSD3ioF5kAcA",
        "outputId": "f72e3e0c-ffcf-4f87-cf80-eb087a43148e"
      },
      "execution_count": 13,
      "outputs": [
        {
          "output_type": "execute_result",
          "data": {
            "text/plain": [
              "array([ 0, -2, 42, -2, 34, -2, 26, -2, 38, 94, -2, 78, 76])"
            ]
          },
          "metadata": {},
          "execution_count": 13
        }
      ]
    },
    {
      "cell_type": "markdown",
      "source": [
        "<table align=\"left\">\n",
        "    <tr>\n",
        "        <td width=\"6%\">\n",
        "            <img src=\"question_icon.png\">\n",
        "        </td>\n",
        "        <td>\n",
        "            <div align=\"left\", style=\"font-size:120%\">\n",
        "                <font color=\"#21618C\">\n",
        "                    <b>5. Stack two arrays vertically\n",
        "</b>\n",
        "                </font>\n",
        "            </div>\n",
        "        </td>\n",
        "    </tr>\n",
        "</table>"
      ],
      "metadata": {
        "id": "5lRbu6yZn3wT"
      }
    },
    {
      "cell_type": "markdown",
      "source": [
        "**Use the array given below:**<br>\n",
        "array1 = np.arange(10).reshape(2,-1)<br>\n",
        "array2 = np.repeat(1, 10).reshape(2,-1)"
      ],
      "metadata": {
        "id": "HKlm9rNhn4ka"
      }
    },
    {
      "cell_type": "code",
      "source": [
        "array1 = np.arange(10).reshape(2,-1)\n",
        "print(array1)\n",
        "array2 = np.repeat(1, 10).reshape(2,-1)\n",
        "print(array2)"
      ],
      "metadata": {
        "colab": {
          "base_uri": "https://localhost:8080/"
        },
        "id": "87i6KAQDlYb1",
        "outputId": "f24f9b1d-ef6d-4af1-c67c-c2365ebf686d"
      },
      "execution_count": 33,
      "outputs": [
        {
          "output_type": "stream",
          "name": "stdout",
          "text": [
            "[[0 1 2 3 4]\n",
            " [5 6 7 8 9]]\n",
            "[[1 1 1 1 1]\n",
            " [1 1 1 1 1]]\n"
          ]
        }
      ]
    },
    {
      "cell_type": "code",
      "source": [
        "# concate\n",
        "concat=np.concatenate([array1,array2],axis=0)\n",
        "\n",
        "print(concat)"
      ],
      "metadata": {
        "colab": {
          "base_uri": "https://localhost:8080/"
        },
        "id": "lgBZRnyVpmwY",
        "outputId": "040cf6fb-dcb3-4daa-8d36-417ad2089add"
      },
      "execution_count": 45,
      "outputs": [
        {
          "output_type": "stream",
          "name": "stdout",
          "text": [
            "[[0 1 2 3 4]\n",
            " [5 6 7 8 9]\n",
            " [1 1 1 1 1]\n",
            " [1 1 1 1 1]]\n"
          ]
        }
      ]
    },
    {
      "cell_type": "code",
      "source": [
        "np.vstack(concat)"
      ],
      "metadata": {
        "colab": {
          "base_uri": "https://localhost:8080/"
        },
        "id": "qH6ZSwhnqWjz",
        "outputId": "2996c6d9-418f-444c-9980-5b9a5ba7881e"
      },
      "execution_count": 49,
      "outputs": [
        {
          "output_type": "execute_result",
          "data": {
            "text/plain": [
              "array([[0, 1, 2, 3, 4],\n",
              "       [5, 6, 7, 8, 9],\n",
              "       [1, 1, 1, 1, 1],\n",
              "       [1, 1, 1, 1, 1]])"
            ]
          },
          "metadata": {},
          "execution_count": 49
        }
      ]
    },
    {
      "cell_type": "markdown",
      "source": [
        "Remove the array one values if have same array two"
      ],
      "metadata": {
        "id": "fieYmjbbq7F0"
      }
    },
    {
      "cell_type": "code",
      "source": [
        "arr1=np.array([1,2,3,5,6])\n",
        "arr2=np.array([5,6,7,8,9])\n",
        "rov_diff=np.setdiff1d(arr1,arr2)\n",
        "print(rov_diff)"
      ],
      "metadata": {
        "colab": {
          "base_uri": "https://localhost:8080/"
        },
        "id": "nayeD0vCrBOn",
        "outputId": "e559825d-99c4-46fd-fbde-0a8678f2eefe"
      },
      "execution_count": 58,
      "outputs": [
        {
          "output_type": "stream",
          "name": "stdout",
          "text": [
            "[1 2 3]\n"
          ]
        }
      ]
    },
    {
      "cell_type": "code",
      "source": [],
      "metadata": {
        "id": "feoGDRQlszJD"
      },
      "execution_count": null,
      "outputs": []
    },
    {
      "cell_type": "markdown",
      "source": [
        "<!-- Remove same in both arraya\n",
        " -->"
      ],
      "metadata": {
        "id": "AYDJwbRgq0Uo"
      }
    }
  ]
}