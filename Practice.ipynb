{
  "nbformat": 4,
  "nbformat_minor": 0,
  "metadata": {
    "colab": {
      "provenance": [],
      "authorship_tag": "ABX9TyNkLbKjdTN4xaFqhJZ2irgS",
      "include_colab_link": true
    },
    "kernelspec": {
      "name": "python3",
      "display_name": "Python 3"
    },
    "language_info": {
      "name": "python"
    }
  },
  "cells": [
    {
      "cell_type": "markdown",
      "metadata": {
        "id": "view-in-github",
        "colab_type": "text"
      },
      "source": [
        "<a href=\"https://colab.research.google.com/github/sumanthgm/Data-Structures-Python/blob/main/Practice.ipynb\" target=\"_parent\"><img src=\"https://colab.research.google.com/assets/colab-badge.svg\" alt=\"Open In Colab\"/></a>"
      ]
    },
    {
      "cell_type": "markdown",
      "source": [
        "<table align=\"left\">\n",
        "    <tr>\n",
        "        <td width=\"6%\">\n",
        "            <img src=\"question_icon.png\">\n",
        "        </td>\n",
        "        <td>\n",
        "            <div align=\"left\", style=\"font-size:120%\">\n",
        "                <font color=\"#21618C\">\n",
        "                    <b>2. Write a program to check whether string contains all alphabets (take input from user) using isalpha()</b>\n",
        "                </font>\n",
        "            </div>\n",
        "        </td>\n",
        "    </tr>\n",
        "</table>\n",
        "\n"
      ],
      "metadata": {
        "id": "pLGhLw33FaTm"
      }
    },
    {
      "cell_type": "code",
      "source": [
        "string=input('Enter the string')\n",
        "string.isalpha()\n"
      ],
      "metadata": {
        "colab": {
          "base_uri": "https://localhost:8080/"
        },
        "id": "io1wpjX6Fh3r",
        "outputId": "43834465-7b23-4c99-ac5e-477903596dfd"
      },
      "execution_count": null,
      "outputs": [
        {
          "name": "stdout",
          "output_type": "stream",
          "text": [
            "Enter the string PYTGON\n"
          ]
        },
        {
          "output_type": "execute_result",
          "data": {
            "text/plain": [
              "False"
            ]
          },
          "metadata": {},
          "execution_count": 6
        }
      ]
    },
    {
      "cell_type": "markdown",
      "source": [
        "<table align=\"left\">\n",
        "    <tr>\n",
        "        <td width=\"6%\">\n",
        "            <img src=\"question_icon.png\">\n",
        "        </td>\n",
        "        <td>\n",
        "            <div align=\"left\", style=\"font-size:120%\">\n",
        "                <font color=\"#21618C\">\n",
        "                    <b>3. Write a program to count number of vowels in a string (take input from user) </b>\n",
        "                </font>\n",
        "            </div>\n",
        "        </td>\n",
        "    </tr>"
      ],
      "metadata": {
        "id": "PaSPIotBG2EO"
      }
    },
    {
      "cell_type": "code",
      "source": [
        "string=input('Enter the String')\n",
        "Vowels=0\n",
        "\n",
        "for i in (string):\n",
        "      if(i=='a' or i=='e' or i=='i' or i=='o' or i=='u' or i=='A' or i=='E' or i=='I' or i=='O' or i=='U'):\n",
        "        Vowels= Vowels+1\n",
        "\n",
        "print('Number of vowels are:',Vowels)\n",
        "\n",
        "\n"
      ],
      "metadata": {
        "colab": {
          "base_uri": "https://localhost:8080/"
        },
        "id": "LFnGojcZG7KX",
        "outputId": "92a2cbf9-c342-45a2-e629-c290bbd00409"
      },
      "execution_count": null,
      "outputs": [
        {
          "output_type": "stream",
          "name": "stdout",
          "text": [
            "Enter the StringSumanth\n",
            "Number of vowels are: 2\n"
          ]
        }
      ]
    },
    {
      "cell_type": "code",
      "source": [],
      "metadata": {
        "id": "3PKtYy0tJI-F"
      },
      "execution_count": null,
      "outputs": []
    },
    {
      "cell_type": "markdown",
      "source": [
        "<table align=\"left\">\n",
        "    <tr>\n",
        "        <td width=\"6%\">\n",
        "            <img src=\"question_icon.png\">\n",
        "        </td>\n",
        "        <td>\n",
        "            <div align=\"left\", style=\"font-size:120%\">\n",
        "                <font color=\"#21618C\">\n",
        "                    <b>4. Write a program to check whether given year is leap year or not (take input from user) </b>\n",
        "                </font>\n",
        "            </div>\n",
        "        </td>\n",
        "    </tr>\n",
        "</table>"
      ],
      "metadata": {
        "id": "aD2RRTdEJJ5V"
      }
    },
    {
      "cell_type": "code",
      "source": [
        "input_year= int(input('Enter the input year'))\n",
        "if (input_year%4)==0:\n",
        "  if (input_year%100)==0:\n",
        "    if (input_year%400)==0:\n",
        "      print(str(input_year),+\"is not leap year\")\n",
        "    else:\n",
        "        print(str(input_year),+\"is not leap year\")\n",
        "  else:\n",
        "    print(str(input_year),+\"is leap year\")\n",
        "else:\n",
        "  print( str(input_year)+\" is not a leap year\")\n",
        "\n",
        "\n",
        "\n",
        "\n"
      ],
      "metadata": {
        "colab": {
          "base_uri": "https://localhost:8080/"
        },
        "id": "5_uIzlVBJM49",
        "outputId": "99980acd-d151-4297-9db9-14f16eeb2bc7"
      },
      "execution_count": null,
      "outputs": [
        {
          "output_type": "stream",
          "name": "stdout",
          "text": [
            "Enter the input year2025\n",
            "2025 is not a leap year\n"
          ]
        }
      ]
    },
    {
      "cell_type": "markdown",
      "source": [
        "<table align=\"left\">\n",
        "    <tr>\n",
        "        <td width=\"6%\">\n",
        "            <img src=\"question_icon.png\">\n",
        "        </td>\n",
        "        <td>\n",
        "            <div align=\"left\", style=\"font-size:120%\">\n",
        "                <font color=\"#21618C\">\n",
        "                    <b>6. Write a program to print Armstrong number in the interval from 100 to 2000</b>\n",
        "                </font>\n",
        "            </div>\n",
        "        </td>\n",
        "    </tr>\n",
        "</table>`\n"
      ],
      "metadata": {
        "id": "bCTHnQaYnPUp"
      }
    },
    {
      "cell_type": "code",
      "source": [
        "a=100\n",
        "b=2000\n",
        "for n in range (a,b+1):\n",
        "  order= len(str(n))\n",
        "  sum=0\n",
        "  temp=n\n",
        "  while temp>0:\n",
        "      degit=temp%10\n",
        "      sum+=degit**3\n",
        "      temp//=10\n",
        "  if sum==n:\n",
        "    print(n)\n",
        "\n",
        "# lower_number = 100\n",
        "# upper_number= 2000\n",
        "# for num in range(lower_number, upper_number + 1): # upper_number + 1 => because in python indexing strats from 0\n",
        "#     order = len(str(num)) # order of number\n",
        "#     sum = 0  # initialize sum\n",
        "#     temp = num\n",
        "#     while temp > 0:\n",
        "#         digit = temp % 10\n",
        "#         sum += digit ** order\n",
        "#         temp //= 10\n",
        "#     if num == sum:\n",
        "#         print(num)\n",
        "\n"
      ],
      "metadata": {
        "colab": {
          "base_uri": "https://localhost:8080/"
        },
        "id": "d97qr-YynSfE",
        "outputId": "d2d3d3d6-358d-4623-9e32-bd6b82cf4489"
      },
      "execution_count": null,
      "outputs": [
        {
          "output_type": "stream",
          "name": "stdout",
          "text": [
            "153\n",
            "370\n",
            "371\n",
            "407\n"
          ]
        }
      ]
    },
    {
      "cell_type": "markdown",
      "source": [
        "<table align=\"left\">\n",
        "    <tr>\n",
        "        <td width=\"6%\">\n",
        "            <img src=\"question_icon.png\">\n",
        "        </td>\n",
        "        <td>\n",
        "            <div align=\"left\", style=\"font-size:120%\">\n",
        "                <font color=\"#21618C\">\n",
        "                    <b>7. Write a program to remove punctuations from a string (take a string containing punctuations as an input from user)</b>\n",
        "                </font>\n",
        "            </div>\n",
        "        </td>\n",
        "    </tr>\n",
        "</table>"
      ],
      "metadata": {
        "id": "O8Muv3xI56uP"
      }
    },
    {
      "cell_type": "code",
      "source": [
        "puntuation='''!()-[]{};:'\"\\,<>./?@#$%^&*_~'''\n",
        "my_string= input('Eneter the input string')\n",
        "no_punct=''\n",
        "for char in (my_string):\n",
        "  if char not in puntuation:\n",
        "      no_punct= no_punct+char\n",
        "print(no_punct)\n",
        "\n"
      ],
      "metadata": {
        "colab": {
          "base_uri": "https://localhost:8080/"
        },
        "id": "XV--kRd_6DNl",
        "outputId": "bc3b90e1-6f0c-4917-c9ab-b3400b3ca99a"
      },
      "execution_count": null,
      "outputs": [
        {
          "output_type": "stream",
          "name": "stdout",
          "text": [
            "Eneter the input stringsum<\n",
            "sum\n"
          ]
        }
      ]
    },
    {
      "cell_type": "markdown",
      "source": [
        "<table align=\"left\">\n",
        "    <tr>\n",
        "        <td width=\"6%\">\n",
        "            <img src=\"question_icon.png\">\n",
        "        </td>\n",
        "        <td>\n",
        "            <div align=\"left\", style=\"font-size:120%\">\n",
        "                <font color=\"#21618C\">\n",
        "                    <b>8. Write a program to swap 2 numbers without using temporary variable (take two numbers from user) </b>\n",
        "                </font>\n",
        "            </div>\n",
        "        </td>\n",
        "    </tr>\n",
        "</table>"
      ],
      "metadata": {
        "id": "kW7iLypR8pJy"
      }
    },
    {
      "cell_type": "code",
      "source": [
        "x=int(input('enter the 1 st number:'))\n",
        "y=int(input('enetr the 2 nd number:'))\n",
        "x=x+y\n",
        "y=x-y\n",
        "x=x-y\n",
        "print('x:',x,'y:',y)"
      ],
      "metadata": {
        "colab": {
          "base_uri": "https://localhost:8080/"
        },
        "id": "YVfeLmPz8t9X",
        "outputId": "8ebddb69-d895-4349-bd2a-53e64217be2d"
      },
      "execution_count": null,
      "outputs": [
        {
          "output_type": "stream",
          "name": "stdout",
          "text": [
            "enter the 1 st number:10\n",
            "enetr the 2 nd number:20\n",
            "x: 20 y: 10\n"
          ]
        }
      ]
    },
    {
      "cell_type": "code",
      "source": [],
      "metadata": {
        "id": "AE4QbCj8985T"
      },
      "execution_count": null,
      "outputs": []
    },
    {
      "cell_type": "markdown",
      "source": [
        "<table align=\"left\">\n",
        "    <tr>\n",
        "        <td width=\"6%\">\n",
        "            <img src=\"question_icon.png\">\n",
        "        </td>\n",
        "        <td>\n",
        "            <div align=\"left\", style=\"font-size:120%\">\n",
        "                <font color=\"#21618C\">\n",
        "                    <b>9. Write a program to print product of two numbers</b>\n",
        "                    <br><br>\n",
        "                    <b> a=10 ; b=\"15\"  </b>\n",
        "                </font>\n",
        "            </div>\n",
        "        </td>\n",
        "    </tr>\n",
        "</table>"
      ],
      "metadata": {
        "id": "IXG-HbYu-AD5"
      }
    },
    {
      "cell_type": "code",
      "source": [
        "x=int(input('enter the 1 st number:'))\n",
        "y=int(input('enetr the 2 nd number:'))\n",
        "product_x=x**2\n",
        "product_y=y**2\n",
        "print(product_x,product_y)"
      ],
      "metadata": {
        "colab": {
          "base_uri": "https://localhost:8080/"
        },
        "id": "kDRa-_64-Blj",
        "outputId": "7718f40b-5d9d-4dfd-e9d6-12e1f79e6d14"
      },
      "execution_count": null,
      "outputs": [
        {
          "output_type": "stream",
          "name": "stdout",
          "text": [
            "enter the 1 st number:10\n",
            "enetr the 2 nd number:20\n",
            "100 400\n"
          ]
        }
      ]
    },
    {
      "cell_type": "markdown",
      "source": [
        "<table align=\"left\">\n",
        "    <tr>\n",
        "        <td width=\"6%\">\n",
        "            <img src=\"question_icon.png\">\n",
        "        </td>\n",
        "        <td>\n",
        "            <div align=\"left\", style=\"font-size:120%\">\n",
        "                <font color=\"#21618C\">\n",
        "                    <b>13. Write a program to fetch the words from the given list which have their first character in uppercase.</b>\n",
        "                </font>\n",
        "            </div>\n",
        "        </td>\n",
        "    </tr>\n",
        "</table>"
      ],
      "metadata": {
        "id": "dH2MjWMO_tGf"
      }
    },
    {
      "cell_type": "code",
      "source": [
        "namesList = ['santa Maria', 'Hello World','Merry christmas', 'tHank You']\n",
        "solutionList=[]\n",
        "\n",
        "for name in namesList:\n",
        "    namevar=name.split()\n",
        "    for i in range (len(namevar)):\n",
        "      if namevar[i][0].isupper():\n",
        "        solutionList.append(namevar[i])\n",
        "\n",
        "print(solutionList)\n",
        "\n"
      ],
      "metadata": {
        "colab": {
          "base_uri": "https://localhost:8080/"
        },
        "id": "FBAbz3Ji_t23",
        "outputId": "664cba08-02f3-46c2-d742-31375e50d600"
      },
      "execution_count": null,
      "outputs": [
        {
          "output_type": "stream",
          "name": "stdout",
          "text": [
            "['Maria', 'Hello', 'World', 'Merry', 'You']\n"
          ]
        }
      ]
    },
    {
      "cell_type": "code",
      "source": [],
      "metadata": {
        "id": "AhJbmK2iEC-u"
      },
      "execution_count": null,
      "outputs": []
    },
    {
      "cell_type": "markdown",
      "source": [
        "<table align=\"left\">\n",
        "    <tr>\n",
        "        <td width=\"6%\">\n",
        "            <img src=\"question_icon.png\">\n",
        "        </td>\n",
        "        <td>\n",
        "            <div align=\"left\", style=\"font-size:120%\">\n",
        "                <font color=\"#21618C\">\n",
        "                    <b>14. A list of dates (dd-mm-yyyy) in the form of string is given below. Create a new list that stores years i.e. the 'yyyy' part from the dates in the given list.</b>\n",
        "                </font>\n",
        "            </div>\n",
        "        </td>\n",
        "    </tr>\n",
        "</table>\n",
        "\n",
        "<b>datesList = ['17-12-1997','22-04-2011','01-05-1993','19-06-2020']</b><br>\n",
        "<b>Output: ['1997','2011','1993','2020']</b>"
      ],
      "metadata": {
        "id": "qhbgeesqEDhy"
      }
    },
    {
      "cell_type": "code",
      "source": [
        "data= ['17-12-1997','22-04-2011','01-05-1993','19-06-2020']\n",
        "year=[]\n",
        "for i in data :\n",
        "  year.append(i.split('-')[2])\n",
        "print(year)\n"
      ],
      "metadata": {
        "colab": {
          "base_uri": "https://localhost:8080/"
        },
        "id": "jSyh-_BqoeE9",
        "outputId": "925c5d01-54b1-4bdb-8a81-17097fa3ab9b"
      },
      "execution_count": null,
      "outputs": [
        {
          "output_type": "stream",
          "name": "stdout",
          "text": [
            "['1997', '2011', '1993', '2020']\n"
          ]
        }
      ]
    },
    {
      "cell_type": "code",
      "source": [
        "datesList = ['17-12-1997','22-04-2011','01-05-1993','19-06-2020']\n",
        "year = []                # An empty list for appending the output\n",
        "for date in datesList:   # Iterating each element from datesList\n",
        "    year.append(date.split('-')[2])   # split('-') will split the element in a list w.r.t '-'. Then appending the 3rd element from the splitter list.\n",
        "\n",
        "print(year)              # Printing the output"
      ],
      "metadata": {
        "colab": {
          "base_uri": "https://localhost:8080/"
        },
        "id": "sRh89vl2oXtT",
        "outputId": "ad2d4396-edd4-4f6e-ae3d-0cfa2868eb4e"
      },
      "execution_count": null,
      "outputs": [
        {
          "output_type": "stream",
          "name": "stdout",
          "text": [
            "['1997', '2011', '1993', '2020']\n"
          ]
        }
      ]
    },
    {
      "cell_type": "code",
      "source": [],
      "metadata": {
        "id": "v9C1e-rJqnX2"
      },
      "execution_count": null,
      "outputs": []
    },
    {
      "cell_type": "markdown",
      "source": [
        "<table align=\"left\">\n",
        "    <tr>\n",
        "        <td width=\"6%\">\n",
        "            <img src=\"question_icon.png\">\n",
        "        </td>\n",
        "        <td>\n",
        "            <div align=\"left\", style=\"font-size:120%\">\n",
        "                <font color=\"#21618C\">\n",
        "                    <b>16. Consider the string (quote) given below. Print a string having unique words from the quote (Remove the duplicates from a string and return a new string without duplicates).<br><br> Note: Do not use any string inbuilt function. Also do not use set()</b>\n",
        "                </font>\n",
        "            </div>\n",
        "        </td>\n",
        "    </tr>\n",
        "</table>\n",
        "<b>quote = \"God made man man made money money made man mad\"</b><br>\n",
        "<b>Output: God made man money mad</b>"
      ],
      "metadata": {
        "id": "DNAogvpoqt23"
      }
    },
    {
      "cell_type": "code",
      "source": [
        "data=\"God made man man made money money made man mad\"\n",
        "names=data.split()\n",
        "newlst=[]\n",
        "\n",
        "for i in names:\n",
        "   if i not in newlst:\n",
        "      newlst.append(i)\n",
        "\n",
        "print(newlst)\n",
        "\n",
        "# quote = \"God made man man made money money made man mad\"\n",
        "# lst = quote.split()             # split() will split the string on ' ' and put the splitted elements in the list 'lst'.\n",
        "# newlst = []                     # Creating an empty list\n",
        "# new_s = \" \"                     # Creating an empty string to store the output that will not have duplicates\n",
        "\n",
        "# for word in lst:                # Iterating each word from the splitted list.\n",
        "#     if word not in newlst:      # Returns True if the word is not present in the empty list 'newlst'.\n",
        "#         newlst.append(word)     # If the above condition is satisfied, then that wordis appended to the newlst\n",
        "\n",
        "# new_s = new_s.join(newlst)      # join() joins the list to the string on ' '.\n",
        "# print(new_s)"
      ],
      "metadata": {
        "colab": {
          "base_uri": "https://localhost:8080/"
        },
        "id": "pCWaX88uqujs",
        "outputId": "c51f43e7-e9ab-4ed8-a13b-6e1da2e2c05f"
      },
      "execution_count": null,
      "outputs": [
        {
          "output_type": "stream",
          "name": "stdout",
          "text": [
            "['God', 'made', 'man', 'money', 'mad']\n"
          ]
        }
      ]
    },
    {
      "cell_type": "code",
      "source": [],
      "metadata": {
        "colab": {
          "base_uri": "https://localhost:8080/"
        },
        "id": "7K82XKNwsQh3",
        "outputId": "a77055e6-3d69-4654-de55-86200b69e8af"
      },
      "execution_count": null,
      "outputs": [
        {
          "output_type": "stream",
          "name": "stdout",
          "text": [
            "God made man money mad\n"
          ]
        }
      ]
    },
    {
      "cell_type": "markdown",
      "source": [
        "<table align=\"left\">\n",
        "    <tr>\n",
        "        <td width=\"8%\">\n",
        "            <img src=\"question_icon.png\">\n",
        "        </td>\n",
        "        <td>\n",
        "            <div align=\"left\", style=\"font-size:120%\">\n",
        "                <font color=\"#21618C\">\n",
        "                    <b>17. Sort all the elements of the list according to the first letter, irrespective of their cases (uppercase or lowercase)<b>Condition : Do not use any inbuilt sorting function.</b>\n",
        "                </font>\n",
        "            </div>\n",
        "        </td>\n",
        "    </tr>\n",
        "</table>\n"
      ],
      "metadata": {
        "id": "nnJHIxpnvKjW"
      }
    },
    {
      "cell_type": "markdown",
      "source": [
        "<b>languages = ['python', 'R', 'Java', 'scala', 'C', 'C++']</b><br>\n",
        "<b>Output: ['C', 'C++', 'Java', 'python', 'R', 'scala']</b>"
      ],
      "metadata": {
        "id": "FUv6IgYAxByY"
      }
    },
    {
      "cell_type": "code",
      "source": [
        "languages = ['python', 'R', 'Java', 'scala', 'C', 'C++']\n",
        "# print(len(languages))\n",
        "\n",
        "for i in range(len(languages)):      # Iterating through the list\n",
        "    for j in range(i+1, len(languages)):      # Iterating through the same list but with indices i+1\n",
        "        if(languages[i][0].lower() > languages[j][0].lower()):    # Comparing the first characters of the words at index i and i+1.\n",
        "            languages[i], languages[j] = languages[j], languages[i]     # Swapping the words position if the above condition is met.\n",
        "\n",
        "print(languages)"
      ],
      "metadata": {
        "colab": {
          "base_uri": "https://localhost:8080/"
        },
        "id": "dMkjEFMbxDqv",
        "outputId": "106b3e4d-c4d5-40f7-806c-f94087736b1f"
      },
      "execution_count": null,
      "outputs": [
        {
          "output_type": "stream",
          "name": "stdout",
          "text": [
            "['C', 'C++', 'Java', 'python', 'R', 'scala']\n"
          ]
        }
      ]
    },
    {
      "cell_type": "code",
      "source": [],
      "metadata": {
        "id": "Pwb87JTS11xC"
      },
      "execution_count": null,
      "outputs": []
    },
    {
      "cell_type": "markdown",
      "source": [],
      "metadata": {
        "id": "-nfG-nLm2CA5"
      }
    },
    {
      "cell_type": "code",
      "source": [
        "saa"
      ],
      "metadata": {
        "id": "le7roOFAIfE5"
      },
      "execution_count": null,
      "outputs": []
    }
  ]
}