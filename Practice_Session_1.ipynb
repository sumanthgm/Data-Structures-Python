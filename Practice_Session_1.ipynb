{
  "cells": [
    {
      "cell_type": "markdown",
      "metadata": {
        "id": "view-in-github",
        "colab_type": "text"
      },
      "source": [
        "<a href=\"https://colab.research.google.com/github/sumanthgm/Data-Structures-Python/blob/main/Practice_Session_1.ipynb\" target=\"_parent\"><img src=\"https://colab.research.google.com/assets/colab-badge.svg\" alt=\"Open In Colab\"/></a>"
      ]
    },
    {
      "cell_type": "markdown",
      "metadata": {
        "id": "PPBWCZmddoQX"
      },
      "source": [
        "<table align=\"center\" width=100%>\n",
        "    <tr>\n",
        "        <td width=\"15%\">\n",
        "            <img src=\"homework.png\">\n",
        "        </td>\n",
        "        <td>\n",
        "            <div align=\"center\">\n",
        "                <font color=\"#21618C\" size=8px>\n",
        "                    <b> Take-Home <br>(Session 1)\n",
        "                    </b>\n",
        "                </font>\n",
        "            </div>\n",
        "        </td>\n",
        "    </tr>\n",
        "</table>"
      ]
    },
    {
      "cell_type": "markdown",
      "metadata": {
        "id": "L4orBuq8doQe"
      },
      "source": [
        "### Let's begin with some hands-on practice exercises"
      ]
    },
    {
      "cell_type": "markdown",
      "metadata": {
        "id": "dhRVPLr5doQf"
      },
      "source": [
        "<table align=\"left\">\n",
        "    <tr>\n",
        "        <td width=\"6%\">\n",
        "            <img src=\"question_icon.png\">\n",
        "        </td>\n",
        "        <td>\n",
        "            <div align=\"left\", style=\"font-size:120%\">\n",
        "                <font color=\"#21618C\">\n",
        "                    <b>1. A text is given below. Write a program to find the character which is at the index position obtained by adding the indices of the character 'e' of the word 'Hello' and 'e' of the word 'Welcome'.</b>\n",
        "                    <br><br>\n",
        "                </font>\n",
        "            </div>\n",
        "        </td>\n",
        "    </tr>\n",
        "</table>\n",
        "\n"
      ]
    },
    {
      "cell_type": "markdown",
      "metadata": {
        "id": "xg4eSrbEdoQg"
      },
      "source": [
        "<b>txt = \"Hello, welcome to my world.\" </b>"
      ]
    },
    {
      "cell_type": "code",
      "execution_count": null,
      "metadata": {
        "id": "YScviwojdoQg",
        "outputId": "81679942-109c-4b5b-b59c-baf18d0ba569"
      },
      "outputs": [
        {
          "name": "stdout",
          "output_type": "stream",
          "text": [
            "8\n",
            "1\n",
            "l\n"
          ]
        }
      ],
      "source": [
        "txt = \"Hello, welcome to my world.\"\n",
        "\n",
        "x = txt.rindex(\"e\", 5, 10)\n",
        "print(x)    #getting the index value of e from 5(strating position) to 10(ending position)\n",
        "y = txt.rindex(\"e\", 1, 5)\n",
        "print(y)    #getting the index value of e from 1(strating position) to 15(ending position)\n",
        "\n",
        "print(txt[x+y]) #adding the indices of character 'e' of word hello and 'e' of the word 'Welcome'."
      ]
    },
    {
      "cell_type": "markdown",
      "metadata": {
        "id": "_-BVR-pjdoQj"
      },
      "source": [
        "<table align=\"left\">\n",
        "    <tr>\n",
        "        <td width=\"6%\">\n",
        "            <img src=\"question_icon.png\">\n",
        "        </td>\n",
        "        <td>\n",
        "            <div align=\"left\", style=\"font-size:120%\">\n",
        "                <font color=\"#21618C\">\n",
        "                    <b>2. Write a program to check whether string contains all alphabets (take input from user) using isalpha()</b>\n",
        "                </font>\n",
        "            </div>\n",
        "        </td>\n",
        "    </tr>\n",
        "</table>\n"
      ]
    },
    {
      "cell_type": "code",
      "execution_count": null,
      "metadata": {
        "id": "u2GJLDyhdoQk",
        "outputId": "a3bf144d-c762-4c97-fada-872c25ac8f73"
      },
      "outputs": [
        {
          "name": "stdout",
          "output_type": "stream",
          "text": [
            "Enter a String hello\n"
          ]
        },
        {
          "data": {
            "text/plain": [
              "True"
            ]
          },
          "execution_count": 2,
          "metadata": {},
          "output_type": "execute_result"
        }
      ],
      "source": [
        "# string contains all characters\n",
        "\n",
        "String = str(input(\"Enter a String \"))\n",
        "\n",
        "String.isalpha()"
      ]
    },
    {
      "cell_type": "code",
      "source": [],
      "metadata": {
        "id": "qtYRJr-XGu4p"
      },
      "execution_count": null,
      "outputs": []
    },
    {
      "cell_type": "code",
      "source": [],
      "metadata": {
        "id": "_LxeOC8gGvZA"
      },
      "execution_count": null,
      "outputs": []
    },
    {
      "cell_type": "code",
      "source": [],
      "metadata": {
        "id": "ETpJurBbGvVZ"
      },
      "execution_count": null,
      "outputs": []
    },
    {
      "cell_type": "markdown",
      "metadata": {
        "id": "-pnk9hFNdoQk"
      },
      "source": [
        "<table align=\"left\">\n",
        "    <tr>\n",
        "        <td width=\"6%\">\n",
        "            <img src=\"question_icon.png\">\n",
        "        </td>\n",
        "        <td>\n",
        "            <div align=\"left\", style=\"font-size:120%\">\n",
        "                <font color=\"#21618C\">\n",
        "                    <b>3. Write a program to count number of vowels in a string (take input from user) </b>\n",
        "                </font>\n",
        "            </div>\n",
        "        </td>\n",
        "    </tr>\n",
        "</table>"
      ]
    },
    {
      "cell_type": "code",
      "execution_count": null,
      "metadata": {
        "id": "hgyFiH6EdoQl",
        "outputId": "bc5a539c-f25c-4326-8d23-469ed629c1cf"
      },
      "outputs": [
        {
          "name": "stdout",
          "output_type": "stream",
          "text": [
            "Enter string:Data Science\n",
            "Number of vowels are:\n",
            "5\n"
          ]
        }
      ],
      "source": [
        "# count number of vowels in the string\n",
        "\n",
        "string=input(\"Enter string:\") #take the input from user\n",
        "\n",
        "# initialize vowels = 0\n",
        "vowels=0\n",
        "\n",
        "# check if vowels are present in string or not\n",
        "for i in string:\n",
        "      if(i=='a' or i=='e' or i=='i' or i=='o' or i=='u' or i=='A' or i=='E' or i=='I' or i=='O' or i=='U'):\n",
        "            vowels=vowels+1\n",
        "print(\"Number of vowels are:\")\n",
        "print(vowels)"
      ]
    },
    {
      "cell_type": "markdown",
      "metadata": {
        "id": "s14lRwJXdoQl"
      },
      "source": [
        "<table align=\"left\">\n",
        "    <tr>\n",
        "        <td width=\"6%\">\n",
        "            <img src=\"question_icon.png\">\n",
        "        </td>\n",
        "        <td>\n",
        "            <div align=\"left\", style=\"font-size:120%\">\n",
        "                <font color=\"#21618C\">\n",
        "                    <b>4. Write a program to check whether given year is leap year or not (take input from user) </b>\n",
        "                </font>\n",
        "            </div>\n",
        "        </td>\n",
        "    </tr>\n",
        "</table>"
      ]
    },
    {
      "cell_type": "code",
      "execution_count": null,
      "metadata": {
        "colab": {
          "base_uri": "https://localhost:8080/"
        },
        "id": "Godav_uodoQm",
        "outputId": "999a19ef-4c2e-4275-f62e-18b0156ab16c"
      },
      "outputs": [
        {
          "output_type": "stream",
          "name": "stdout",
          "text": [
            "Enter a year: 2025\n",
            "2025 is not a leap year\n"
          ]
        }
      ],
      "source": [
        "# to check whether a given year is leap year or not\n",
        "input_year = int(input(\"Enter a year: \")) # take input from user\n",
        "\n",
        "if (input_year % 4) == 0:\n",
        "    if (input_year % 100) == 0:\n",
        "        if (input_year % 400) == 0:\n",
        "            print( str(input_year)+\"is a leap year\")\n",
        "        else:\n",
        "            print( str(input_year)+\"is not a leap year\")\n",
        "    else:\n",
        "        print( str(input_year)+\"is a leap year\")\n",
        "else:\n",
        "    print( str(input_year)+\" is not a leap year\")"
      ]
    },
    {
      "cell_type": "markdown",
      "metadata": {
        "id": "pj0gf_crdoQm"
      },
      "source": [
        "<table align=\"left\">\n",
        "    <tr>\n",
        "        <td width=\"6%\">\n",
        "            <img src=\"question_icon.png\">\n",
        "        </td>\n",
        "        <td>\n",
        "            <div align=\"left\", style=\"font-size:120%\">\n",
        "                <font color=\"#21618C\">\n",
        "                    <b>5. Write a pseudo code to check whether an entered letter is a vowel or not. </b>\n",
        "                </font>\n",
        "            </div>\n",
        "        </td>\n",
        "    </tr>\n",
        "</table>"
      ]
    },
    {
      "cell_type": "raw",
      "metadata": {
        "id": "p51vQ6ozdoQm"
      },
      "source": [
        "        letter = letter entered by the user\n",
        "        define a list of vowels\n",
        "        if letter is in vowels:\n",
        "            then print that entered the letter is a vowel\n",
        "        else :\n",
        "            print that the entered letter is not a vowel"
      ]
    },
    {
      "cell_type": "markdown",
      "metadata": {
        "id": "jF5coDihdoQn"
      },
      "source": [
        "="
      ]
    },
    {
      "cell_type": "markdown",
      "metadata": {
        "id": "7G6GcOq8doQn"
      },
      "source": [
        "**Hint: Armstrong number = The sum of cubes of each digit is equal to the number itself.**"
      ]
    },
    {
      "cell_type": "code",
      "execution_count": null,
      "metadata": {
        "id": "7wnsWd19doQn",
        "outputId": "a4b5756f-0834-4ed0-a680-75c84581c8fd"
      },
      "outputs": [
        {
          "name": "stdout",
          "output_type": "stream",
          "text": [
            "153\n",
            "370\n",
            "371\n",
            "407\n",
            "1634\n"
          ]
        }
      ],
      "source": [
        "#find armstrong number in an interval\n",
        "lower_number = 100\n",
        "upper_number= 2000\n",
        "for num in range(lower_number, upper_number + 1): # upper_number + 1 => because in python indexing strats from 0\n",
        "    order = len(str(num)) # order of number\n",
        "    sum = 0  # initialize sum\n",
        "    temp = num\n",
        "    while temp > 0:\n",
        "        digit = temp % 10\n",
        "        sum += digit ** order\n",
        "        temp //= 10\n",
        "    if num == sum:\n",
        "        print(num)"
      ]
    },
    {
      "cell_type": "markdown",
      "metadata": {
        "id": "ItuP9t18doQn"
      },
      "source": [
        "<table align=\"left\">\n",
        "    <tr>\n",
        "        <td width=\"6%\">\n",
        "            <img src=\"question_icon.png\">\n",
        "        </td>\n",
        "        <td>\n",
        "            <div align=\"left\", style=\"font-size:120%\">\n",
        "                <font color=\"#21618C\">\n",
        "                    <b>7. Write a program to remove punctuations from a string (take a string containing punctuations as an input from user)</b>\n",
        "                </font>\n",
        "            </div>\n",
        "        </td>\n",
        "    </tr>\n",
        "</table>"
      ]
    },
    {
      "cell_type": "code",
      "execution_count": null,
      "metadata": {
        "id": "MSdLBvHUdoQo",
        "outputId": "e3d2cf96-7829-4fef-cc0a-b9f3eedeb1aa"
      },
      "outputs": [
        {
          "name": "stdout",
          "output_type": "stream",
          "text": [
            "Enter a string: Hell0!!!!!!!!!11\n",
            "Hell011\n"
          ]
        }
      ],
      "source": [
        "#Remove punctuations from string\n",
        "punctuations = '''!()-[]{};:'\"\\,<>./?@#$%^&*_~''' # assigning punctuations to variable\n",
        "my_str = input(\"Enter a string: \")\n",
        "\n",
        "# remove punctuation from the string\n",
        "no_punct = \"\"\n",
        "for char in my_str:\n",
        "    if char not in punctuations:\n",
        "        no_punct = no_punct + char\n",
        "\n",
        "# display the unpunctuated string\n",
        "print(no_punct)"
      ]
    },
    {
      "cell_type": "markdown",
      "metadata": {
        "id": "1UEUYa0cdoQo"
      },
      "source": [
        "<table align=\"left\">\n",
        "    <tr>\n",
        "        <td width=\"6%\">\n",
        "            <img src=\"question_icon.png\">\n",
        "        </td>\n",
        "        <td>\n",
        "            <div align=\"left\", style=\"font-size:120%\">\n",
        "                <font color=\"#21618C\">\n",
        "                    <b>8. Write a program to swap 2 numbers without using temporary variable (take two numbers from user) </b>\n",
        "                </font>\n",
        "            </div>\n",
        "        </td>\n",
        "    </tr>\n",
        "</table>\n"
      ]
    },
    {
      "cell_type": "code",
      "execution_count": null,
      "metadata": {
        "id": "14nsI9dXdoQp",
        "outputId": "3c5e82da-df25-4f7d-f44b-1f824825778f"
      },
      "outputs": [
        {
          "name": "stdout",
          "output_type": "stream",
          "text": [
            "Enter the number1 = 45\n",
            "Enter the number2 = 43\n",
            "After swapping : Number1 = 43  Number2 = 45\n"
          ]
        }
      ],
      "source": [
        "# Swap two numbers without using temporary varibale\n",
        "\n",
        "\n",
        "number1 = int(input(\"Enter the number1 = \")) #taking number 1 and number 2 from user\n",
        "number2 = int(input(\"Enter the number2 = \")) #taking number 1 and number 2 from user\n",
        "\n",
        "\n",
        "x = number1 # assigning number1 to x\n",
        "y = number2 # assigning number2 to y\n",
        "\n",
        "\n",
        "x = x+y\n",
        "y = x-y\n",
        "x = x-y\n",
        "\n",
        "print(\"After swapping : Number1 =\",x, \" Number2 =\",y)\n"
      ]
    },
    {
      "cell_type": "markdown",
      "metadata": {
        "id": "y8cOdLSBdoQp"
      },
      "source": [
        "<table align=\"left\">\n",
        "    <tr>\n",
        "        <td width=\"6%\">\n",
        "            <img src=\"question_icon.png\">\n",
        "        </td>\n",
        "        <td>\n",
        "            <div align=\"left\", style=\"font-size:120%\">\n",
        "                <font color=\"#21618C\">\n",
        "                    <b>9. Write a program to print product of two numbers</b>\n",
        "                    <br><br>\n",
        "                    <b> a=10 ; b=\"15\"  </b>\n",
        "                </font>\n",
        "            </div>\n",
        "        </td>\n",
        "    </tr>\n",
        "</table>"
      ]
    },
    {
      "cell_type": "code",
      "execution_count": null,
      "metadata": {
        "id": "F76G5VzwdoQp",
        "outputId": "bea6d9b5-ee32-4b30-db8f-4c253787c103"
      },
      "outputs": [
        {
          "name": "stdout",
          "output_type": "stream",
          "text": [
            "20\n"
          ]
        }
      ],
      "source": [
        "a=5\n",
        "b=\"4\"\n",
        "b=int(b)\n",
        "c=a*b\n",
        "print(c)"
      ]
    },
    {
      "cell_type": "markdown",
      "metadata": {
        "id": "veoSu_YSdoQq"
      },
      "source": [
        "<table align=\"left\">\n",
        "    <tr>\n",
        "        <td width=\"6%\">\n",
        "            <img src=\"question_icon.png\">\n",
        "        </td>\n",
        "        <td>\n",
        "            <div align=\"left\", style=\"font-size:120%\">\n",
        "                <font color=\"#21618C\">\n",
        "                    <b> 10. Write a pseudo code to check whether input is even number or odd number (take input from user).</b><br>\n",
        "                </font>\n",
        "            </div>\n",
        "        </td>\n",
        "    </tr>\n",
        "</table>"
      ]
    },
    {
      "cell_type": "markdown",
      "metadata": {
        "id": "UtiGk3FkdoQq"
      },
      "source": [
        "                num = number entered by the user\n",
        "                if number modulus 2 is 0 :\n",
        "                        then print that the number is even\n",
        "                else print that the nmber is odd"
      ]
    },
    {
      "cell_type": "markdown",
      "metadata": {
        "id": "BhjaiWABdoQq"
      },
      "source": [
        "<table align=\"left\">\n",
        "    <tr>\n",
        "        <td width=\"6%\">\n",
        "            <img src=\"question_icon.png\">\n",
        "        </td>\n",
        "        <td>\n",
        "            <div align=\"left\", style=\"font-size:120%\">\n",
        "                <font color=\"#21618C\">\n",
        "                    <b>11. Write a pseudo code to print whether a number is divisible by 9 and a multiple of 6 (take input from the user).</b><br>\n",
        "                </font>\n",
        "            </div>\n",
        "        </td>\n",
        "    </tr>\n",
        "</table>"
      ]
    },
    {
      "cell_type": "markdown",
      "metadata": {
        "id": "RVX7u1AGdoQq"
      },
      "source": [
        "                num = num entered the user\n",
        "                if number modulud 6 and number modulus 9 is zero  then,\n",
        "                        print that the number is divisible by 9 and multiple of 6\n",
        "                else print that the number is divisible by 9 and multiple of 6"
      ]
    },
    {
      "cell_type": "markdown",
      "metadata": {
        "id": "lWCt4dePdoQq"
      },
      "source": [
        "<table align=\"left\">\n",
        "    <tr>\n",
        "        <td width=\"6%\">\n",
        "            <img src=\"question_icon.png\">\n",
        "        </td>\n",
        "        <td>\n",
        "            <div align=\"left\", style=\"font-size:120%\">\n",
        "                <font color=\"#21618C\">\n",
        "                    <b>12. Write a pseudo to take 5 values from user and print their average using while loop (take input from user)</b><br>\n",
        "                </font>\n",
        "            </div>\n",
        "        </td>\n",
        "    </tr>\n",
        "</table>"
      ]
    },
    {
      "cell_type": "markdown",
      "metadata": {
        "id": "3ru_vkfwdoQq"
      },
      "source": [
        "                    total_numbers = 5\n",
        "                    total_sum = 0\n",
        "                    count = 1\n",
        "                    while count less than total_numbers:\n",
        "                            result += num entered by user\n",
        "                            count +=1\n",
        "                    average = result/count\n",
        "                    printthat the average is average"
      ]
    },
    {
      "cell_type": "markdown",
      "metadata": {
        "id": "xu7OtVzpdoQr"
      },
      "source": [
        "<table align=\"left\">\n",
        "    <tr>\n",
        "        <td width=\"6%\">\n",
        "            <img src=\"question_icon.png\">\n",
        "        </td>\n",
        "        <td>\n",
        "            <div align=\"left\", style=\"font-size:120%\">\n",
        "                <font color=\"#21618C\">\n",
        "                    <b>13. Write a program to fetch the words from the given list which have their first character in uppercase.</b>\n",
        "                </font>\n",
        "            </div>\n",
        "        </td>\n",
        "    </tr>\n",
        "</table>"
      ]
    },
    {
      "cell_type": "markdown",
      "metadata": {
        "id": "YFtWAo64doQr"
      },
      "source": [
        "<b>namesList = ['santa Maria', 'Hello World','Merry christmas', 'tHank You']</b><br>\n",
        "<b>Output: ['Maria', 'Hello', 'World', 'Merry', 'You']</b>"
      ]
    },
    {
      "cell_type": "code",
      "execution_count": null,
      "metadata": {
        "id": "5awnuDEKdoQr",
        "outputId": "131abe87-8f91-4df3-9fc2-1e5d55ad9a77"
      },
      "outputs": [
        {
          "name": "stdout",
          "output_type": "stream",
          "text": [
            "['Maria', 'Hello', 'World', 'Merry', 'You']\n"
          ]
        }
      ],
      "source": [
        "namesList = ['santa Maria', 'Hello World','Merry christmas', 'tHank You']\n",
        "solutionList = []           # Empty List created for appending solution\n",
        "for name in namesList:      # Iterating through the namesList\n",
        "    namevar = name.split()  # split() function splits the string on a space ' '. Thus 'santa Maria'.split() gives a new list ['santa', 'Maria']\n",
        "    for i in range(len(namevar)):    # Iterating the list namevar\n",
        "        if namevar[i][0].isupper():  # Checking whether the First Character of the word i<b>namesList = ['santa Maria', 'Hello World','Merry christmas', 'tHank You']</b><br>\n",
        "            solutionList.append(namevar[i])  # If the first character is uppercase, then append that word in the solutionList\n",
        "\n",
        "print(solutionList)         # Printing the output"
      ]
    },
    {
      "cell_type": "markdown",
      "metadata": {
        "id": "nxgQ51YKdoQr"
      },
      "source": [
        "<table align=\"left\">\n",
        "    <tr>\n",
        "        <td width=\"6%\">\n",
        "            <img src=\"question_icon.png\">\n",
        "        </td>\n",
        "        <td>\n",
        "            <div align=\"left\", style=\"font-size:120%\">\n",
        "                <font color=\"#21618C\">\n",
        "                    <b>14. A list of dates (dd-mm-yyyy) in the form of string is given below. Create a new list that stores years i.e. the 'yyyy' part from the dates in the given list.</b>\n",
        "                </font>\n",
        "            </div>\n",
        "        </td>\n",
        "    </tr>\n",
        "</table>"
      ]
    },
    {
      "cell_type": "markdown",
      "metadata": {
        "id": "Y05krj_KdoQr"
      },
      "source": [
        "<b>datesList = ['17-12-1997','22-04-2011','01-05-1993','19-06-2020']</b><br>\n",
        "<b>Output: ['1997','2011','1993','2020']</b>"
      ]
    },
    {
      "cell_type": "code",
      "execution_count": null,
      "metadata": {
        "id": "bfY8pDMvdoQs",
        "outputId": "121e3b6b-d561-45dd-c08c-6dba2734adcf"
      },
      "outputs": [
        {
          "name": "stdout",
          "output_type": "stream",
          "text": [
            "['1997', '2011', '1993', '2020']\n"
          ]
        }
      ],
      "source": [
        "datesList = ['17-12-1997','22-04-2011','01-05-1993','19-06-2020']\n",
        "year = []                # An empty list for appending the output\n",
        "for date in datesList:   # Iterating each element from datesList\n",
        "    year.append(date.split('-')[2])   # split('-') will split the element in a list w.r.t '-'. Then appending the 3rd element from the splitter list.\n",
        "\n",
        "print(year)              # Printing the output"
      ]
    },
    {
      "cell_type": "markdown",
      "metadata": {
        "id": "qYzWfIUzdoQs"
      },
      "source": [
        "<table align=\"left\">\n",
        "    <tr>\n",
        "        <td width=\"6%\">\n",
        "            <img src=\"question_icon.png\">\n",
        "        </td>\n",
        "        <td>\n",
        "            <div align=\"left\", style=\"font-size:120%\">\n",
        "                <font color=\"#21618C\">\n",
        "                    <b>15. A list containing age and name of five candidates is given below. Convert this list into a dictionary such that the name is the key and the age before their name should be the value in the dictionary.</b>\n",
        "                    <br>\n",
        "                </font>\n",
        "            </div>\n",
        "        </td>\n",
        "    </tr>\n",
        "</table>"
      ]
    },
    {
      "cell_type": "markdown",
      "metadata": {
        "id": "urpwaGK0doQs"
      },
      "source": [
        "<b>lst = [26,'John',34,'Mary',13,'Steven',24,'Ronald',65,'Donald']</b><br>\n",
        "<b>Output: {'John':26, 'Mary':34, 'Steven':13, 'Ronald':24, 'Donald':65}</b>"
      ]
    },
    {
      "cell_type": "code",
      "execution_count": null,
      "metadata": {
        "id": "8jmry7ZtdoQs",
        "outputId": "d72f1e42-586f-419b-a6ae-9923d4542d30"
      },
      "outputs": [
        {
          "name": "stdout",
          "output_type": "stream",
          "text": [
            "{'John': 26, 'Mary': 34, 'Steven': 13, 'Ronald': 24, 'Donald': 65}\n"
          ]
        }
      ],
      "source": [
        "lst = [26,'John',34,'Mary',13,'Steven',24,'Ronald',65,'Donald']\n",
        "\n",
        "d={}    # Creating an empty dictionary\n",
        "for i in range(0,len(lst),2):     # Iterating a loop such that value of i will be a difference of 2. i.e i = 0,2,4,6,8\n",
        "    d[lst[i+1]] = lst[i]      # lst[i] will give all the elements at indices 0,2,4,6,8.\n",
        "                              # lst[i+1] will give all the elements at indices 1,3,5,7,9.\n",
        "\n",
        "print(d)                      # print the output dictionary"
      ]
    },
    {
      "cell_type": "markdown",
      "metadata": {
        "id": "sydG8XBrdoQs"
      },
      "source": [
        "<table align=\"left\">\n",
        "    <tr>\n",
        "        <td width=\"6%\">\n",
        "            <img src=\"question_icon.png\">\n",
        "        </td>\n",
        "        <td>\n",
        "            <div align=\"left\", style=\"font-size:120%\">\n",
        "                <font color=\"#21618C\">\n",
        "                    <b>16. Consider the string (quote) given below. Print a string having unique words from the quote (Remove the duplicates from a string and return a new string without duplicates).<br><br> Note: Do not use any string inbuilt function. Also do not use set()</b>\n",
        "                </font>\n",
        "            </div>\n",
        "        </td>\n",
        "    </tr>\n",
        "</table>"
      ]
    },
    {
      "cell_type": "markdown",
      "metadata": {
        "id": "F3kZArH6doQt"
      },
      "source": [
        "<b>quote = \"God made man man made money money made man mad\"</b><br>\n",
        "<b>Output: God made man money mad</b>"
      ]
    },
    {
      "cell_type": "code",
      "execution_count": null,
      "metadata": {
        "id": "ShxAC7FIdoQy",
        "outputId": "5669dd61-367e-4642-afed-9b3397bb8d08"
      },
      "outputs": [
        {
          "name": "stdout",
          "output_type": "stream",
          "text": [
            "God made man money mad\n"
          ]
        }
      ],
      "source": [
        "quote = \"God made man man made money money made man mad\"\n",
        "lst = quote.split()             # split() will split the string on ' ' and put the splitted elements in the list 'lst'.\n",
        "newlst = []                     # Creating an empty list\n",
        "new_s = \" \"                     # Creating an empty string to store the output that will not have duplicates\n",
        "\n",
        "for word in lst:                # Iterating each word from the splitted list.\n",
        "    if word not in newlst:      # Returns True if the word is not present in the empty list 'newlst'.\n",
        "        newlst.append(word)     # If the above condition is satisfied, then that wordis appended to the newlst\n",
        "\n",
        "new_s = new_s.join(newlst)      # join() joins the list to the string on ' '.\n",
        "print(new_s)"
      ]
    },
    {
      "cell_type": "markdown",
      "metadata": {
        "id": "4ElV3WtUdoQy"
      },
      "source": [
        "<table align=\"left\">\n",
        "    <tr>\n",
        "        <td width=\"6%\">\n",
        "            <img src=\"question_icon.png\">\n",
        "        </td>\n",
        "        <td>\n",
        "            <div align=\"left\", style=\"font-size:120%\">\n",
        "                <font color=\"#21618C\">\n",
        "                    <b>17. Sort all the elements of the list according to the first letter, irrespective of their cases (uppercase or lowercase).</b><br><br>\n",
        "                    <b>Condition : Do not use any inbuilt sorting function.</b>\n",
        "                </font>\n",
        "            </div>\n",
        "        </td>\n",
        "    </tr>\n",
        "</table>"
      ]
    },
    {
      "cell_type": "markdown",
      "metadata": {
        "id": "FH_aXkjIdoQy"
      },
      "source": [
        "<b>languages = ['python', 'R', 'Java', 'scala', 'C', 'C++']</b><br>\n",
        "<b>Output: ['C', 'C++', 'Java', 'python', 'R', 'scala']</b>"
      ]
    },
    {
      "cell_type": "code",
      "execution_count": null,
      "metadata": {
        "id": "kUPbiA9mdoQy",
        "outputId": "2b345aa6-09f1-4af1-9ebd-013b7a7f25ac"
      },
      "outputs": [
        {
          "name": "stdout",
          "output_type": "stream",
          "text": [
            "['C', 'C++', 'Java', 'python', 'R', 'scala']\n"
          ]
        }
      ],
      "source": [
        "languages = ['python', 'R', 'Java', 'scala', 'C', 'C++']\n",
        "\n",
        "# s = ' '\n",
        "# for i in range(len(languages)):      # Iterating through the list\n",
        "#     for j in range(i+1, len(languages)):      # Iterating through the same list but with indices i+1\n",
        "#         if(languages[i][0].lower() > languages[j][0].lower()):    # Comparing the first characters of the words at index i and i+1.\n",
        "#             languages[i], languages[j] = languages[j], languages[i]     # Swapping the words position if the above condition is met.\n",
        "\n",
        "# print(languages)"
      ]
    },
    {
      "cell_type": "markdown",
      "metadata": {
        "id": "eoc7ooIQdoQy"
      },
      "source": [
        "<table align=\"left\">\n",
        "    <tr>\n",
        "        <td width=\"6%\">\n",
        "            <img src=\"question_icon.png\">\n",
        "        </td>\n",
        "        <td>\n",
        "            <div align=\"left\", style=\"font-size:120%\">\n",
        "                <font color=\"#21618C\">\n",
        "                    <b> 18. Create dictionary with 4 keys and their respective values and swap the keys to values and values to keys.</b>\n",
        "                </font>\n",
        "            </div>\n",
        "        </td>\n",
        "    </tr>\n",
        "</table>"
      ]
    },
    {
      "cell_type": "markdown",
      "metadata": {
        "id": "ZcVwPsn2doQz"
      },
      "source": [
        "<b>d = {'Hello':22,'World':14, 'Welcome':10, 'Back':3}</b><br>\n",
        "<b>Output: {22: 'Hello', 14: 'World', 10: 'Welcome', 3: 'Back'}</b>"
      ]
    },
    {
      "cell_type": "code",
      "execution_count": null,
      "metadata": {
        "id": "9RUPD_IUdoQz",
        "outputId": "c34aa30c-bf1e-4f5a-bc64-de10e53801a9"
      },
      "outputs": [
        {
          "name": "stdout",
          "output_type": "stream",
          "text": [
            "{22: 'Hello', 14: 'World', 10: 'Welcome', 3: 'Back'}\n"
          ]
        }
      ],
      "source": [
        "d = {'Hello':22,'World':14, 'Welcome':10, 'Back':3}\n",
        "new_dict = dict([(value, key) for key, value in d.items()])   # d.items() returns items present in the dictionary\n",
        "print(new_dict)"
      ]
    },
    {
      "cell_type": "markdown",
      "metadata": {
        "id": "aqpFzGTCdoQz"
      },
      "source": [
        "<table align=\"left\">\n",
        "    <tr>\n",
        "        <td width=\"6%\">\n",
        "            <img src=\"question_icon.png\">\n",
        "        </td>\n",
        "        <td>\n",
        "            <div align=\"left\", style=\"font-size:120%\">\n",
        "                <font color=\"#21618C\">\n",
        "                    <b> 19. Given below are the list of positive and negative words. Also a list of comments is provided. Segregate the comments based on positive and negative sentiments.</b><br>\n",
        "                </font>\n",
        "            </div>\n",
        "        </td>\n",
        "    </tr>\n",
        "</table>"
      ]
    },
    {
      "cell_type": "markdown",
      "metadata": {
        "id": "pasri0wAdoQz"
      },
      "source": [
        "positive = ['good','awesome', 'best', 'nice']<br><br>\n",
        "negative = ['worst','awful']<br> <br>\n",
        "comments = ['He is a good boy',<br>\n",
        "   &emsp;&emsp;&emsp;'Food is the worst here',<br>\n",
        "   &emsp;&emsp;&emsp;'He is an awesome player',<br>\n",
        "   &emsp;&emsp;&emsp;'She is the best',<br>\n",
        "   &emsp;&emsp;&emsp;'This pizza tastes awful',<br>\n",
        "   &emsp;&emsp;&emsp;'These burger are really nice']<br>"
      ]
    },
    {
      "cell_type": "code",
      "execution_count": null,
      "metadata": {
        "id": "wNcH57qcdoQz",
        "outputId": "645676aa-d0ae-4e90-fb27-a3d29a75678d"
      },
      "outputs": [
        {
          "name": "stdout",
          "output_type": "stream",
          "text": [
            "Positive Sentiment:  ['He is a good boy', 'He is an awesome player', 'She is the best', 'These burger are really nice']\n",
            "\n",
            "Negative Sentiment:  ['Food is the worst here', 'This pizza tastes awful']\n"
          ]
        }
      ],
      "source": [
        "positive = ['good','awesome', 'best', 'nice']     # Given List containing positive sentiment words\n",
        "negative = ['worst','awful']                      # Given List containing negative sentiment words\n",
        "\n",
        "positive_sentiment = []                           # Empty list for storing sentences having positive sentiment\n",
        "negative_sentiment = []                           # Empty list for storing sentences having negative sentiment\n",
        "\n",
        "comments = ['He is a good boy',\n",
        "   'Food is the worst here',\n",
        "   'He is an awesome player',\n",
        "   'She is the best',\n",
        "   'This pizza tastes awful',\n",
        "   'These burger are really nice']               # List of sentences which we have to categorize according to the sentiment word from po_sent and ne_sent\n",
        "\n",
        "for sentence in comments:                             # Iterating sentencesfrom the list lst\n",
        "    for pos in positive:                              # Iterating words from the list po_sent\n",
        "        if pos in sentence:                           # Looking if words from po_sent are present in the sentence\n",
        "            positive_sentiment.append(sentence)       # Appending the positive sentences in the list\n",
        "    for nes in negative:                              # Iterating words from the list po_sent\n",
        "        if nes in sentence:                           # Looking if words from po_sent are present in the sentence\n",
        "            negative_sentiment.append(sentence)       # Appending the positive sentences in the list\n",
        "\n",
        "\n",
        "print(\"Positive Sentiment: \",positive_sentiment)     # Printing sentences with positive sentiment\n",
        "print(\"\\nNegative Sentiment: \",negative_sentiment)   # Printing sentences with negative sentiment"
      ]
    },
    {
      "cell_type": "markdown",
      "metadata": {
        "id": "wDhn9WiudoQz"
      },
      "source": [
        "<table align=\"left\">\n",
        "    <tr>\n",
        "        <td width=\"6%\">\n",
        "            <img src=\"question_icon.png\">\n",
        "        </td>\n",
        "        <td>\n",
        "            <div align=\"left\", style=\"font-size:120%\">\n",
        "                <font color=\"#21618C\">\n",
        "                    <b> 20. A dictionary of power levels of superheroes is given. Also, the categories of these superheroes are provided according to the range of their power. Replace the power levels in the dictionary with the corresponding category.</b><br>\n",
        "                </font>\n",
        "            </div>\n",
        "        </td>\n",
        "    </tr>\n",
        "</table>"
      ]
    },
    {
      "cell_type": "raw",
      "metadata": {
        "id": "jrWPU0x-doQz"
      },
      "source": [
        "power_level = {'Drax':30,\n",
        "               'Spiderman':50,\n",
        "               'Thanos':58000,\n",
        "               'Captain America':80,\n",
        "               'Loki':3200,\n",
        "               'Thor':44000,\n",
        "               'Groot': 120,\n",
        "               'Ironman':5000,\n",
        "               'Dr. Strange':8000}\n",
        "\n",
        "Categories are\n",
        "God_Like : (35000,70000)\n",
        "Super_Strong: (3000,10000)\n",
        "Strong: (100,200)\n",
        "Peak_Human: (10,90)\n",
        "\n",
        "Output: {'Drax': 'Peak_Human', 'Spiderman': 'Peak_Human', 'Thanos': 'God_Like', 'Captain America': 'Peak_Human', 'Loki': 'Super_strong', 'Thor': 'God_Like', 'Groot': 'Strong', 'Ironman': 'Super_strong', 'Dr. Strange': 'Super_strong'}"
      ]
    },
    {
      "cell_type": "code",
      "execution_count": null,
      "metadata": {
        "id": "2MDkqNwJdoQz",
        "outputId": "44ae88c5-9b9c-4534-e1a3-6ffbaf15c6ee"
      },
      "outputs": [
        {
          "name": "stdout",
          "output_type": "stream",
          "text": [
            "{'Drax': 'Peak_Human', 'Spiderman': 'Peak_Human', 'Thanos': 'God_Like', 'Captain America': 'Peak_Human', 'Loki': 'Super_strong', 'Thor': 'God_Like', 'Groot': 'Strong', 'Ironman': 'Super_strong', 'Dr. Strange': 'Super_strong'}\n"
          ]
        }
      ],
      "source": [
        "power_level = {'Drax':30,\n",
        "               'Spiderman':50,\n",
        "               'Thanos':58000,\n",
        "               'Captain America':80,\n",
        "               'Loki':3200,\n",
        "               'Thor':44000,\n",
        "               'Groot': 120,\n",
        "               'Ironman':5000,\n",
        "               'Dr. Strange':8000}              # Dictionary of superheroes as keys and their corresponding power levels as values.\n",
        "\n",
        "for hero in power_level:                       # Iterating heroes from the power_level dictionary\n",
        "    if((power_level[hero] > 35000) and (power_level[hero] < 70000)):      # If power level of the hero is between 35000 and 70000\n",
        "        power_level[hero] = 'God_Like'                                      # Then replace the power_level with the category \"God_Like\"\n",
        "    elif((power_level[hero] > 3000) and (power_level[hero] < 10000)):     # If power level of the hero is between 3000 and 10000\n",
        "        power_level[hero] = 'Super_strong'                                  # Then replace the power_level with the category \"Super_Strong\"\n",
        "    elif((power_level[hero] > 100) and (power_level[hero] < 200)):        # If power level of the hero is between 100 and 200\n",
        "        power_level[hero] = 'Strong'                                        # Then replace the power_level with the category \"Strong\"\n",
        "    elif((power_level[hero] > 10) and (power_level[hero] < 90)):          # If power level of the hero is between 10 and 90\n",
        "        power_level[hero] = 'Peak_Human'                                    # Then replace the power_level with the category \"Peak_Human\"\n",
        "\n",
        "print(power_level)\n"
      ]
    },
    {
      "cell_type": "markdown",
      "metadata": {
        "id": "rMiuSVacdoQ0"
      },
      "source": [
        "<table align=\"left\">\n",
        "    <tr>\n",
        "        <td width=\"6%\">\n",
        "            <img src=\"question_icon.png\">\n",
        "        </td>\n",
        "        <td>\n",
        "            <div align=\"left\", style=\"font-size:120%\">\n",
        "                <font color=\"#21618C\">\n",
        "                    <b> 21. A list of Power Levels of superheroes is given. Also, the Category is provided according to the range for information. Group the heroes(in list) as per their corresponding category according to the power levels.</b><br>\n",
        "                    <br>\n",
        "                    <b> Sample Output: God_like = ['Thor', 'Thanos']</b>\n",
        "                </font>\n",
        "            </div>\n",
        "        </td>\n",
        "    </tr>\n",
        "</table>"
      ]
    },
    {
      "cell_type": "raw",
      "metadata": {
        "id": "KgnDPHl9doQ0"
      },
      "source": [
        "power_level = {'Drax':30,\n",
        "               'Spiderman':50,\n",
        "               'Thanos':58000,\n",
        "               'Captain America':80,\n",
        "               'Loki':3200,\n",
        "               'Thor':44000,\n",
        "               'Groot': 120,\n",
        "               'Ironman':5000,\n",
        "               'Dr. Strange':8000}\n",
        "\n",
        "Categories are\n",
        "God_Like: (35000,70000)\n",
        "Super_Strong: (3000,10000)\n",
        "Strong: (100,200)\n",
        "Peak_Human: (10,90)\n",
        "\n",
        "Output:\n",
        "God_Like:  ['Thanos', 'Thor']\n",
        "Super_Strong:  ['Loki', 'Ironman', 'Dr. Strange']\n",
        "Strong:  ['Groot']\n",
        "Peak_Human:  ['Drax', 'Spiderman', 'Captain America']"
      ]
    },
    {
      "cell_type": "code",
      "execution_count": null,
      "metadata": {
        "id": "cL0iIBt1doQ0",
        "outputId": "062d5d2c-45f8-46f9-cb3b-dd78fa256a1a"
      },
      "outputs": [
        {
          "name": "stdout",
          "output_type": "stream",
          "text": [
            "God_Like:  ['Thanos', 'Thor']\n",
            "Super_Strong:  ['Loki', 'Ironman', 'Dr. Strange']\n",
            "Strong:  ['Groot']\n",
            "Peak_Human:  ['Drax', 'Spiderman', 'Captain America']\n"
          ]
        }
      ],
      "source": [
        "power_level = {'Drax':30,\n",
        "               'Spiderman':50,\n",
        "               'Thanos':58000,\n",
        "               'Captain America':80,\n",
        "               'Loki':3200,\n",
        "               'Thor':44000,\n",
        "               'Groot': 120,\n",
        "               'Ironman':5000,\n",
        "               'Dr. Strange':8000}              # Dictionary of superheroes as keys and their corresponding power levels as values.\n",
        "\n",
        "God_Like = []            # Empty list for collecting heroes with god like power level\n",
        "Super_Strong = []        # Empty list for collecting heroes who are super strong\n",
        "Strong = []              # Empty list for collecting heroes who are strong\n",
        "Peak_Human = []          # Empty list for collecting heroes who are peak human\n",
        "\n",
        "for hero in power_level:\n",
        "    if((power_level[hero] > 35000) and (power_level[hero] < 70000)):      # If power level of the hero is between 35000 and 70000\n",
        "        God_Like.append(hero)                                               # Append that hero to God_Like list\n",
        "    elif((power_level[hero] > 3000) and (power_level[hero] < 10000)):     # If power level of the hero is between 35000 and 70000\n",
        "        Super_Strong.append(hero)                                           # Append that hero to Super_Strong list\n",
        "    elif((power_level[hero] > 100) and (power_level[hero] < 200)):        # If power level of the hero is between 35000 and 70000\n",
        "        Strong.append(hero)                                                 # Append that hero to Strong list\n",
        "    elif((power_level[hero] > 10) and (power_level[hero] < 90)):          # If power level of the hero is between 35000 and 70000\n",
        "        Peak_Human.append(hero)                                             # Append that hero to Peak_Human list\n",
        "\n",
        "print('God_Like: ', God_Like)\n",
        "print('Super_Strong: ', Super_Strong)\n",
        "print('Strong: ', Strong)\n",
        "print('Peak_Human: ', Peak_Human)\n"
      ]
    },
    {
      "cell_type": "markdown",
      "metadata": {
        "id": "_o6P7LTTdoQ0"
      },
      "source": [
        "<table align=\"left\">\n",
        "    <tr>\n",
        "        <td width=\"6%\">\n",
        "            <img src=\"question_icon.png\">\n",
        "        </td>\n",
        "        <td>\n",
        "            <div align=\"left\", style=\"font-size:120%\">\n",
        "                <font color=\"#21618C\">\n",
        "                    <b> 22. Find the fruits that are <i>sour</i> in taste from the tuple given below.</b>   \n",
        "                </font>\n",
        "            </div>\n",
        "        </td>\n",
        "    </tr>\n",
        "</table>"
      ]
    },
    {
      "cell_type": "raw",
      "metadata": {
        "id": "3T_KIkX7doQ0"
      },
      "source": [
        "fruits = (('Lemon','sour'),\n",
        "          ('DragonFruit', 'Sweet'),\n",
        "          ('Grapes','soUr'),\n",
        "          ('Kiwi','Sour'),\n",
        "          ('Apples','sweet'),\n",
        "          ('Orange','sour'),\n",
        "          ('Blueberries','sweet'),\n",
        "          ('Limes','Sour')\n",
        "          )\n",
        "\n",
        "Output:\n",
        "Sour Fruits:  ['Lemon', 'Grapes', 'Kiwi', 'Orange', 'Limes']"
      ]
    },
    {
      "cell_type": "code",
      "execution_count": null,
      "metadata": {
        "id": "IXQaOB9udoQ0",
        "outputId": "4104c755-2167-404a-8bdf-cceebca20784"
      },
      "outputs": [
        {
          "name": "stdout",
          "output_type": "stream",
          "text": [
            "Sour Fruits:  ['Lemon', 'Grapes', 'Kiwi', 'Orange', 'Limes']\n"
          ]
        }
      ],
      "source": [
        "fruits = (('Lemon','sour'),\n",
        "          ('DragonFruit', 'Sweet'),\n",
        "          ('Grapes','soUr'),\n",
        "          ('Kiwi','Sour'),\n",
        "          ('Apples','sweet'),\n",
        "          ('Orange','sour'),\n",
        "          ('Blueberries','sweet'),\n",
        "          ('Limes','Sour')\n",
        "          )                              # Tuple containing fruits and their corresponding taste\n",
        "sour = []                                # Empty list to append sour fruits output\n",
        "fruits_dict = dict(fruits)               # Converting the tuple into dictionary\n",
        "\n",
        "for fruit in fruits_dict:                # Iterating fruits i.e. keys from the dictionary\n",
        "    taste = fruits_dict[fruit].lower()   # Converting uppercase words to lowercase\n",
        "    if taste == 'sour':                  # Comparing if taste is sour\n",
        "        sour.append(fruit)               # Append the sour fruits to the list\n",
        "\n",
        "print('Sour Fruits: ',sour)              # Print the output\n"
      ]
    }
  ],
  "metadata": {
    "kernelspec": {
      "display_name": "Python 3",
      "language": "python",
      "name": "python3"
    },
    "language_info": {
      "codemirror_mode": {
        "name": "ipython",
        "version": 3
      },
      "file_extension": ".py",
      "mimetype": "text/x-python",
      "name": "python",
      "nbconvert_exporter": "python",
      "pygments_lexer": "ipython3",
      "version": "3.8.3"
    },
    "colab": {
      "provenance": [],
      "include_colab_link": true
    }
  },
  "nbformat": 4,
  "nbformat_minor": 0
}