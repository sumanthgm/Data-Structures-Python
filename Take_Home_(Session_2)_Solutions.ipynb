{
  "cells": [
    {
      "cell_type": "markdown",
      "metadata": {
        "id": "view-in-github",
        "colab_type": "text"
      },
      "source": [
        "<a href=\"https://colab.research.google.com/github/sumanthgm/Data-Structures-Python/blob/main/Take_Home_(Session_2)_Solutions.ipynb\" target=\"_parent\"><img src=\"https://colab.research.google.com/assets/colab-badge.svg\" alt=\"Open In Colab\"/></a>"
      ]
    },
    {
      "cell_type": "markdown",
      "metadata": {
        "id": "H_vlooWQQ4jc"
      },
      "source": [
        "<table align=\"center\" width=100%>\n",
        "    <tr>\n",
        "        <td width=\"15%\">\n",
        "            <img src=\"homework.png\">\n",
        "        </td>\n",
        "        <td>\n",
        "            <div align=\"center\">\n",
        "                <font color=\"#21618C\" size=8px>\n",
        "                    <b> Take-Home <br>(Session 2)\n",
        "                    </b>\n",
        "                </font>\n",
        "            </div>\n",
        "        </td>\n",
        "    </tr>\n",
        "</table>"
      ]
    },
    {
      "cell_type": "markdown",
      "metadata": {
        "id": "VS1cKiDmQ4jd"
      },
      "source": [
        "### Let's begin with some hands-on practice exercises"
      ]
    },
    {
      "cell_type": "markdown",
      "metadata": {
        "id": "IjsDbpkCQ4jd"
      },
      "source": [
        "<table align=\"left\">\n",
        "    <tr>\n",
        "        <td width=\"6%\">\n",
        "            <img src=\"question_icon.png\">\n",
        "        </td>\n",
        "        <td>\n",
        "            <div align=\"left\", style=\"font-size:120%\">\n",
        "                <font color=\"#21618C\">\n",
        "                    <b>1. Write a program to print following pattern</b>\n",
        "                    <br>\n",
        "                 </font>\n",
        "            </div>\n",
        "        </td>\n",
        "    </tr>\n",
        "</table>\n"
      ]
    },
    {
      "cell_type": "raw",
      "metadata": {
        "id": "JjXjN2jmQ4je"
      },
      "source": [
        "A\n",
        "B C\n",
        "D E F\n",
        "G H I J\n",
        "K L M N O\n",
        "P Q R S T U"
      ]
    },
    {
      "cell_type": "code",
      "execution_count": null,
      "metadata": {
        "id": "s26HRVk_Q4je",
        "outputId": "33e9c6d2-da9c-4ef9-b61a-a4df04078bfc"
      },
      "outputs": [
        {
          "name": "stdout",
          "output_type": "stream",
          "text": [
            "Print Pattern\n",
            "A  \n",
            "B C  \n",
            "D E F  \n",
            "G H I J  \n",
            "K L M N O  \n",
            "P Q R S T U  \n"
          ]
        }
      ],
      "source": [
        "print(\"Print Pattern\")\n",
        "number = 6\n",
        "Ascii_value = 65\n",
        "for i in range(0, number):\n",
        "    for j in range(0, i+1):\n",
        "        character  = chr(Ascii_value)\n",
        "        print(character, end=' ')\n",
        "        Ascii_value+=1\n",
        "    print(\" \")"
      ]
    },
    {
      "cell_type": "markdown",
      "metadata": {
        "id": "5mGQR8NXQ4je"
      },
      "source": [
        "<table align=\"left\">\n",
        "    <tr>\n",
        "        <td width=\"6%\">\n",
        "            <img src=\"question_icon.png\">\n",
        "        </td>\n",
        "        <td>\n",
        "            <div align=\"left\", style=\"font-size:120%\">\n",
        "                <font color=\"#21618C\">\n",
        "                    <b>2. Write a program to print tables from 2 to a user provided range (take number from user)\n",
        "                 </font>\n",
        "            </div>\n",
        "        </td>\n",
        "    </tr>\n",
        "</table>"
      ]
    },
    {
      "cell_type": "code",
      "execution_count": null,
      "metadata": {
        "id": "JfTtfHalQ4jf"
      },
      "outputs": [],
      "source": [
        "range_num = int(input('Enter a number in range: '))\n",
        "for i in range (2, range_num+1):\n",
        "  for j in range (1,11):\n",
        "    print(n,'X',i,\"=\",n*i)\n",
        "  print\n"
      ]
    },
    {
      "cell_type": "markdown",
      "metadata": {
        "id": "awE7KNnfQ4jf"
      },
      "source": [
        "<table align=\"left\">\n",
        "    <tr>\n",
        "        <td width=\"6%\">\n",
        "            <img src=\"question_icon.png\">\n",
        "        </td>\n",
        "        <td>\n",
        "            <div align=\"left\", style=\"font-size:120%\">\n",
        "                <font color=\"#21618C\">\n",
        "                    <b>3. Consider the given two tuples. Divide corresponding elemets of two tuples and print the result as tuple (use zip())</b>\n",
        "                 </font>\n",
        "            </div>\n",
        "        </td>\n",
        "    </tr>\n",
        "</table>"
      ]
    },
    {
      "cell_type": "markdown",
      "metadata": {
        "id": "dZZD3whrQ4jf"
      },
      "source": [
        "   **The original tuple 1 : (10, 4, 6, 9)**\n",
        "\n",
        "   **The original tuple 2 : (5, 2, 3, 3)**\n",
        "\n",
        "   **Output: (2, 2, 2, 3)**\n"
      ]
    },
    {
      "cell_type": "code",
      "execution_count": null,
      "metadata": {
        "id": "1K8yX1HdQ4jf",
        "outputId": "24292de7-115c-4ea7-e923-eee74713cfc9"
      },
      "outputs": [
        {
          "name": "stdout",
          "output_type": "stream",
          "text": [
            "The original tuple 1 : (10, 4, 6, 9)\n",
            "The original tuple 2 : (5, 2, 3, 3)\n",
            "The divided tuple : (2, 2, 2, 3)\n"
          ]
        }
      ],
      "source": [
        "#zip is a built-in function that takes two or more sequences and “zips” them into a list of tuples where each tuple contains one element from each sequence.\n",
        "#zip() + generator expression\n",
        "# initialize tuples\n",
        "tuple1 = (10, 4, 6, 9)\n",
        "tuple2 = (5, 2, 3, 3)\n",
        "\n",
        "# printing original tuples\n",
        "print(\"The original tuple 1 : \" + str(tuple1))\n",
        "print(\"The original tuple 2 : \" + str(tuple2))\n",
        "\n",
        "# Tuple division\n",
        "# using zip() + generator expression\n",
        "res = tuple(ele1 // ele2 for ele1, ele2 in zip(tuple1, tuple2))\n",
        "\n",
        "# printing result\n",
        "print(\"The divided tuple : \" + str(res))"
      ]
    },
    {
      "cell_type": "markdown",
      "metadata": {
        "id": "SXh8WLmRQ4jg"
      },
      "source": [
        "<table align=\"left\">\n",
        "    <tr>\n",
        "        <td width=\"6%\">\n",
        "            <img src=\"question_icon.png\">\n",
        "        </td>\n",
        "        <td>\n",
        "            <div align=\"left\", style=\"font-size:120%\">\n",
        "                <font color=\"#21618C\">\n",
        "                    <b>4. Write a list comprehension to find words whose length is less than 5 from the given multi-dimensional list</b>\n",
        "                    <br>\n",
        "                </font>\n",
        "            </div>\n",
        "        </td>\n",
        "    </tr>\n",
        "</table>"
      ]
    },
    {
      "cell_type": "markdown",
      "metadata": {
        "id": "GjF7kgkyQ4jg"
      },
      "source": [
        "**astro = [['sky', 'sun', 'moon'], ['star', 'Jupiter', 'mars'], ['Jupiter', 'Neptune', 'Pluto']] **\n"
      ]
    },
    {
      "cell_type": "code",
      "execution_count": null,
      "metadata": {
        "id": "b5De3qX3Q4jg",
        "outputId": "3a141d28-86c0-4bcb-f18a-1fa5ac7e6d4a"
      },
      "outputs": [
        {
          "data": {
            "text/plain": [
              "['sky', 'sun', 'moon', 'star', 'mars', 'Pluto']"
            ]
          },
          "execution_count": 1,
          "metadata": {},
          "output_type": "execute_result"
        }
      ],
      "source": [
        "astro = [['sky', 'sun', 'moon'], ['star', 'Jupiter', 'mars'], ['Jupiter', 'Neptune', 'Pluto']]\n",
        "word_list = [i for sublist in astro for i in sublist if len(i) < 6]\n",
        "word_list"
      ]
    },
    {
      "cell_type": "markdown",
      "source": [],
      "metadata": {
        "id": "TCefjFsvkGFV"
      }
    },
    {
      "cell_type": "markdown",
      "metadata": {
        "id": "C8MWpfLyQ4jg"
      },
      "source": [
        "<table align=\"left\">\n",
        "    <tr>\n",
        "        <td width=\"6%\">\n",
        "            <img src=\"question_icon.png\">\n",
        "        </td>\n",
        "        <td>\n",
        "            <div align=\"left\", style=\"font-size:120%\">\n",
        "                <font color=\"#21618C\">\n",
        "                    <b>5. Write a program to append a dictionary to a tuple</b>\n",
        "                 </font>\n",
        "            </div>\n",
        "        </td>\n",
        "    </tr>\n",
        "</table>"
      ]
    },
    {
      "cell_type": "markdown",
      "metadata": {
        "id": "VUb1FzmmQ4jg"
      },
      "source": [
        "**The original tuple : (4, 5, 6)**\n",
        "\n",
        "**Tuple after addition of dictionary : (4, 5, 6, {'gfg': 1, 'is': 2, 'best': 3})**"
      ]
    },
    {
      "cell_type": "code",
      "execution_count": null,
      "metadata": {
        "id": "_r2Qf1XfQ4jg",
        "outputId": "190eabce-6a12-4992-f9c9-e1a9d3e9fb4d"
      },
      "outputs": [
        {
          "name": "stdout",
          "output_type": "stream",
          "text": [
            "The original tuple : (4, 5, 6)\n",
            "Tuple after addition of dictionary : (4, 5, 6, {'gfg': 1, 'is': 2, 'best': 3})\n"
          ]
        }
      ],
      "source": [
        "# Add dictionary to tuple\n",
        "# initialize tuple\n",
        "tuple1 = (4, 5, 6)\n",
        "\n",
        "# printing original tuple\n",
        "print(\"The original tuple : \" + str(tuple1))\n",
        "\n",
        "# initialize dictionary\n",
        "new_dict = {\"gfg\" : 1, \"is\" : 2, \"best\" : 3}\n",
        "\n",
        "# Add dictionary to tuple\n",
        "# using append() + tuple() + list comprehension\n",
        "tuple1 = list(tuple1)\n",
        "tuple1.append(new_dict)\n",
        "tuple1 = tuple(tuple1)\n",
        "\n",
        "# printing result\n",
        "print(\"Tuple after addition of dictionary : \" + str(tuple1))"
      ]
    },
    {
      "cell_type": "markdown",
      "metadata": {
        "id": "IjHmfoXPQ4jg"
      },
      "source": [
        "<table align=\"left\">\n",
        "    <tr>\n",
        "        <td width=\"6%\">\n",
        "            <img src=\"question_icon.png\">\n",
        "        </td>\n",
        "        <td>\n",
        "            <div align=\"left\", style=\"font-size:120%\">\n",
        "                <font color=\"#21618C\">\n",
        "                    <b>6. Write a program to check whether two strings are anagram or not (take input from user)</b>\n",
        "                 </font>\n",
        "            </div>\n",
        "        </td>\n",
        "    </tr>\n",
        "</table>"
      ]
    },
    {
      "cell_type": "markdown",
      "metadata": {
        "id": "Zn9qG0yEQ4jg"
      },
      "source": [
        "**Hint: An anagram of a string is another string that contains same characters, only the order of characters can be different.**"
      ]
    },
    {
      "cell_type": "code",
      "execution_count": null,
      "metadata": {
        "id": "he8Wym6yQ4jg",
        "outputId": "3e55670b-f0d7-40ad-ea96-c1bab658507f"
      },
      "outputs": [
        {
          "name": "stdout",
          "output_type": "stream",
          "text": [
            "Enter a string : hi\n",
            "Enter a string : ig\n",
            "The strings aren't anagrams.\n"
          ]
        }
      ],
      "source": [
        "s1 = str(input(\"Enter a string : \"))\n",
        "s2 = str(input(\"Enter a string : \"))\n",
        "\n",
        "if(sorted(s1.lower())== sorted(s2.lower())):\n",
        "    print(\"The strings are anagrams.\")\n",
        "else:\n",
        "    print(\"The strings aren't anagrams.\")\n"
      ]
    },
    {
      "cell_type": "markdown",
      "metadata": {
        "id": "_1mPn6UrQ4jg"
      },
      "source": [
        "<table align=\"left\">\n",
        "    <tr>\n",
        "        <td width=\"6%\">\n",
        "            <img src=\"question_icon.png\">\n",
        "        </td>\n",
        "        <td>\n",
        "            <div align=\"left\", style=\"font-size:120%\">\n",
        "                <font color=\"#21618C\">\n",
        "                    <b>7. Write a program to remove space from keys of the given dictionary  </b>\n",
        "                 </font>\n",
        "            </div>\n",
        "        </td>\n",
        "    </tr>\n",
        "</table>"
      ]
    },
    {
      "cell_type": "markdown",
      "metadata": {
        "id": "0Q4LYXOUQ4jg"
      },
      "source": [
        "**fruity = {'Fruits 01' : 'Apple', 'Fruits 02' : 'Orange',\n",
        "                'Fruits 0 3 ': 'Grapes'}**\n",
        "\n",
        "**(Output)New dictionary :   {'Fruits01': 'Apple', 'Fruits02': 'Orange', 'Fruits03': 'Grapes'}**\n"
      ]
    },
    {
      "cell_type": "code",
      "execution_count": null,
      "metadata": {
        "id": "Rt3vE106Q4jg",
        "outputId": "f837b8e0-03c0-4a51-bc71-7767e20570ec"
      },
      "outputs": [
        {
          "name": "stdout",
          "output_type": "stream",
          "text": [
            " New dictionary :  {'Fruits01': 'Apple', 'Fruits02': 'Orange', 'Fruits03': 'Grapes'}\n"
          ]
        }
      ],
      "source": [
        "# creating a dictionary of type string\n",
        "\n",
        "fruity = {'Fruits 01' : 'Apple', 'Fruits 02' : 'Orange',\n",
        "                'Fruits 0 3 ': 'Grapes'};\n",
        "\n",
        "# removing spaces from keys\n",
        "# storing them in same dictionary\n",
        "fruity = {x.replace(' ', ''): v\n",
        " for x, v in fruity.items()}\n",
        "\n",
        "# printing new dictionary\n",
        "print (\" New dictionary : \",fruity)\n",
        "\n"
      ]
    },
    {
      "cell_type": "markdown",
      "metadata": {
        "id": "zEvLns55Q4jh"
      },
      "source": [
        "<table align=\"left\">\n",
        "    <tr>\n",
        "        <td width=\"6%\">\n",
        "            <img src=\"question_icon.png\">\n",
        "        </td>\n",
        "        <td>\n",
        "            <div align=\"left\", style=\"font-size:120%\">\n",
        "                <font color=\"#21618C\">\n",
        "                    <b>8. Write a program to transpose a matrix using list comprehension</b>\n",
        "                 </font>\n",
        "            </div>\n",
        "        </td>\n",
        "    </tr>\n",
        "</table>"
      ]
    },
    {
      "cell_type": "markdown",
      "metadata": {
        "id": "IKZ4q9k0Q4jh"
      },
      "source": [
        "**matrix=[[1,2],[3,4],[5,6],[7,8]]**<br>\n",
        "**Output: [[1, 3, 5, 7], [2, 4, 6, 8]]**"
      ]
    },
    {
      "cell_type": "code",
      "execution_count": null,
      "metadata": {
        "id": "iz5U3F9pQ4jh",
        "outputId": "1a094eb3-619e-40bf-fe1d-111fd02c7941"
      },
      "outputs": [
        {
          "data": {
            "text/plain": [
              "[[1, 3, 5, 7], [2, 4, 6, 8]]"
            ]
          },
          "execution_count": 8,
          "metadata": {},
          "output_type": "execute_result"
        }
      ],
      "source": [
        "matrix=[[1,2],[3,4],[5,6],[7,8]]\n",
        "transpose =[[r[i] for r in matrix] for i in range (2)]\n",
        "transpose"
      ]
    },
    {
      "cell_type": "markdown",
      "metadata": {
        "id": "rMKToFBcQ4jh"
      },
      "source": [
        "<table align=\"left\">\n",
        "    <tr>\n",
        "        <td width=\"6%\">\n",
        "            <img src=\"question_icon.png\">\n",
        "        </td>\n",
        "        <td>\n",
        "            <div align=\"left\", style=\"font-size:120%\">\n",
        "                <font color=\"#21618C\">\n",
        "                    <b>9. Consider the below string 'input_str'. Take the position index from user and from that position print Mirror string.</b>\n",
        "                 </font>\n",
        "            </div>\n",
        "        </td>\n",
        "    </tr>\n",
        "</table>"
      ]
    },
    {
      "cell_type": "markdown",
      "metadata": {
        "id": "VrE0rMLaQ4jh"
      },
      "source": [
        "**Hint : Mirror String : In mirror operation, we change ‘a’ to ‘z’, ‘b’ to ‘y’,'c' to 'x' and so on.**"
      ]
    },
    {
      "cell_type": "markdown",
      "metadata": {
        "id": "D5jkRNyZQ4jh"
      },
      "source": [
        "**Example**\n",
        "\n",
        "**input_str = program**\n",
        "\n",
        "**Position Index = 2**\n",
        "\n",
        "**Output String = prltizn**"
      ]
    },
    {
      "cell_type": "code",
      "execution_count": null,
      "metadata": {
        "id": "jzqMtAyYQ4jh",
        "outputId": "0ee23da1-2e2d-462f-ef6b-496b78a6db40"
      },
      "outputs": [
        {
          "name": "stdout",
          "output_type": "stream",
          "text": [
            "Enter the string : program\n",
            "Enter a number : 2\n",
            "prltizn\n"
          ]
        }
      ],
      "source": [
        "# Mirrior String\n",
        "\n",
        "# position from which the reversing shall be\n",
        "\n",
        "input_str = str(input(\"Enter the string : \"))\n",
        "reverseAlphabet = \"zyxwvutsrqponmlkjihgfedcba\"\n",
        "l = len(st)\n",
        "\n",
        "n = int(input(\"Enter a number : \"))\n",
        "\n",
        "# string, we reverse the alphabetical order\n",
        "answer = \"\"\n",
        "for i in range(0, n):\n",
        "    answer = answer + st[i];\n",
        "\n",
        "for i in range(n, l):\n",
        "    answer = (answer +\n",
        "    reverseAlphabet[ord(st[i]) - ord('a')]); # ord() function returns the number representing the unicode code of a specified character.\n",
        "\n",
        "\n",
        "print(answer)\n"
      ]
    },
    {
      "cell_type": "markdown",
      "metadata": {
        "id": "er5o956uQ4jh"
      },
      "source": [
        "<table align=\"left\">\n",
        "    <tr>\n",
        "        <td width=\"6%\">\n",
        "            <img src=\"question_icon.png\">\n",
        "        </td>\n",
        "        <td>\n",
        "            <div align=\"left\", style=\"font-size:120%\">\n",
        "                <font color=\"#21618C\">\n",
        "                    <b>10. Write a program to create a 5x3 matrix with values in each row as 1,2, and 3</b>\n",
        "                    <br>\n",
        "                 </font>\n",
        "            </div>\n",
        "        </td>\n",
        "    </tr>\n",
        "</table>"
      ]
    },
    {
      "cell_type": "code",
      "execution_count": null,
      "metadata": {
        "scrolled": true,
        "id": "IyFjtwDPQ4jh",
        "outputId": "407640ea-95c5-4f32-ab1e-15a68155b6a9"
      },
      "outputs": [
        {
          "data": {
            "text/plain": [
              "[[1, 2, 3], [1, 2, 3], [1, 2, 3], [1, 2, 3], [1, 2, 3]]"
            ]
          },
          "execution_count": 6,
          "metadata": {},
          "output_type": "execute_result"
        }
      ],
      "source": [
        "m = [[j for j in range(1,4)] for i in range(1,6)]\n",
        "m"
      ]
    },
    {
      "cell_type": "markdown",
      "metadata": {
        "id": "f-OsFzkOQ4jh"
      },
      "source": [
        "<table align=\"left\">\n",
        "    <tr>\n",
        "        <td width=\"6%\">\n",
        "            <img src=\"question_icon.png\">\n",
        "        </td>\n",
        "        <td>\n",
        "            <div align=\"left\", style=\"font-size:120%\">\n",
        "                <font color=\"#21618C\">\n",
        "                    <b>11. A list of words is given. Convert the words into uppercase.</b>\n",
        "                    <br>\n",
        "                    <br>\n",
        "                    <b>Use lambda and map functions</b>\n",
        "                </font>\n",
        "            </div>\n",
        "        </td>\n",
        "    </tr>\n",
        "</table>"
      ]
    },
    {
      "cell_type": "markdown",
      "metadata": {
        "id": "yJFOtf9lQ4jh"
      },
      "source": [
        "<b>lsbool = ['True','FALse','tRUe','tRue','False','faLse','True']</b><br>\n",
        "<b>Output: ['TRUE', 'FALSE', 'TRUE', 'TRUE', 'FALSE', 'FALSE', 'TRUE']</b>"
      ]
    },
    {
      "cell_type": "code",
      "execution_count": null,
      "metadata": {
        "id": "i-TrQ3KPQ4jh",
        "outputId": "55c7d84f-35f9-498f-c5d3-42892d5e7d29"
      },
      "outputs": [
        {
          "name": "stdout",
          "output_type": "stream",
          "text": [
            "['TRUE', 'FALSE', 'TRUE', 'TRUE', 'FALSE', 'FALSE', 'TRUE']\n"
          ]
        }
      ],
      "source": [
        "lsbool = ['True','FALse','tRUe','tRue','False','faLse','True']\n",
        "output = list(map(lambda x: x.upper() , lsbool))               # upper() converts a string into Uppercase.\n",
        "                                                           # lambda is an anonymous function. map() iterates the lambda function over the given list 'ls'.\n",
        "print(output)                                              # Print the output List."
      ]
    },
    {
      "cell_type": "markdown",
      "metadata": {
        "id": "saleAzZYQ4ji"
      },
      "source": [
        "<table align=\"left\">\n",
        "    <tr>\n",
        "        <td width=\"6%\">\n",
        "            <img src=\"question_icon.png\">\n",
        "        </td>\n",
        "        <td>\n",
        "            <div align=\"left\", style=\"font-size:120%\">\n",
        "                <font color=\"#21618C\">\n",
        "                    <b>12. Replace 'TRUE' with 1 and 'FALSE' with 0. Use the above question's output as an input to this current question.</b>\n",
        "                </font>\n",
        "            </div>\n",
        "        </td>\n",
        "    </tr>\n",
        "</table>"
      ]
    },
    {
      "cell_type": "code",
      "execution_count": null,
      "metadata": {
        "id": "TqwPS_W7Q4ji",
        "outputId": "6427e099-5ec7-4673-a78d-1b2ba94eeb0f"
      },
      "outputs": [
        {
          "data": {
            "text/plain": [
              "[1, 0, 1, 1, 0, 0, 1]"
            ]
          },
          "execution_count": 2,
          "metadata": {},
          "output_type": "execute_result"
        }
      ],
      "source": [
        "converter = lambda x : 1 if (x == 'TRUE') else 0           # If a value in the list is TRUE, then it is replaced with 1 otherwise with 0\n",
        "list(map(converter, output))                               # map() iterates the lambda function 'converter' over the given list 'output'."
      ]
    },
    {
      "cell_type": "markdown",
      "metadata": {
        "id": "7543osFeQ4ji"
      },
      "source": [
        "<table align=\"left\">\n",
        "    <tr>\n",
        "        <td width=\"6%\">\n",
        "            <img src=\"question_icon.png\">\n",
        "        </td>\n",
        "        <td>\n",
        "            <div align=\"left\", style=\"font-size:120%\">\n",
        "                <font color=\"#21618C\">\n",
        "                    <b>13. Create a dictionary containing four lambda functions square, cube, squareroot, multiply by 2.</b>\n",
        "                    <br><br>\n",
        "                    <b>E.g. dict = {'Square': function for squaring, 'Cube': function for cube, 'Squareroot': function for squareroot, 'Double': function for double} and so on </b>\n",
        "                    <br><br>\n",
        "                    <b>Pass the values (input from the user) to the functions in the dictionary respectively. Then add the outputs of each function and print it.</b>\n",
        "                </font>\n",
        "            </div>\n",
        "        </td>\n",
        "    </tr>\n",
        "</table>"
      ]
    },
    {
      "cell_type": "code",
      "execution_count": null,
      "metadata": {
        "id": "Rx689Al9Q4ji",
        "outputId": "001d6a44-f553-4eb0-ae59-e655d176bf99"
      },
      "outputs": [
        {
          "name": "stdout",
          "output_type": "stream",
          "text": [
            "Enter first number: 5\n",
            "Enter second number: 6\n",
            "Enter third number: 100\n",
            "Enter forth number: 23\n",
            "Sum :  297.0\n"
          ]
        }
      ],
      "source": [
        "# Take input from user for each function parameter inside the dictionary\n",
        "inpsq = int(input('Enter first number: '))\n",
        "inpcu = int(input('Enter second number: '))\n",
        "inproot = int(input('Enter third number: '))\n",
        "inpdouble = int(input('Enter forth number: '))\n",
        "\n",
        "# Creating a dictionary with keys: Square, Cuve, Squareroot and Double. The values are the lambda functions.\n",
        "dictLambda = {'Square': lambda x:x**2, 'Cube': lambda x:x**3, 'Squareroot': lambda x:(x**0.5),'Double': lambda x:x*2}\n",
        "\n",
        "# Passing the user input value to the lambda functions and storing the sum of the outputs in the 'result' variable\n",
        "result = dictLambda['Square'](inpsq) + dictLambda['Cube'](inpcu) + dictLambda['Squareroot'](inproot) + dictLambda['Double'](inpdouble)\n",
        "\n",
        "# Printing the sum\n",
        "print('Sum : ',result)"
      ]
    },
    {
      "cell_type": "markdown",
      "metadata": {
        "id": "jZU8eJfvQ4ji"
      },
      "source": [
        "<table align=\"left\">\n",
        "    <tr>\n",
        "        <td width=\"6%\">\n",
        "            <img src=\"question_icon.png\">\n",
        "        </td>\n",
        "        <td>\n",
        "            <div align=\"left\", style=\"font-size:120%\">\n",
        "                <font color=\"#21618C\">\n",
        "                    <b>14. A list of words is given. Find the words from the list that have their second character in uppercase.</b>\n",
        "                </font>\n",
        "            </div>\n",
        "        </td>\n",
        "    </tr>\n",
        "</table>"
      ]
    },
    {
      "cell_type": "markdown",
      "metadata": {
        "id": "HRXnTmkIQ4jp"
      },
      "source": [
        "<b>ls = ['hello', 'Dear', 'hOw', 'ARe', 'You']</b><br>\n",
        "<b>Output: ['hOw', 'ARe']</b>"
      ]
    },
    {
      "cell_type": "code",
      "execution_count": null,
      "metadata": {
        "id": "Pge-3BnRQ4jp",
        "outputId": "d190717c-2e72-4189-a5c7-4e576826d53b"
      },
      "outputs": [
        {
          "data": {
            "text/plain": [
              "['hOw', 'ARe']"
            ]
          },
          "execution_count": 6,
          "metadata": {},
          "output_type": "execute_result"
        }
      ],
      "source": [
        "words = ['hello', 'Dear', 'hOw', 'ARe', 'You']\n",
        "\n",
        "def filterNames(x):                 # Creating a function filterNames(parameter) that will return the result as a boolean value\n",
        "    if x[1].isupper():              # Checking whether the second character of the word fromthe list 'ls' is in upper case or not.\n",
        "        return True\n",
        "    else:\n",
        "        return False\n",
        "list(filter(filterNames, words))       # Returns the words that have their second character in uppercase"
      ]
    },
    {
      "cell_type": "markdown",
      "metadata": {
        "id": "DzCGRo5XQ4jp"
      },
      "source": [
        "<table align=\"left\">\n",
        "    <tr>\n",
        "        <td width=\"6%\">\n",
        "            <img src=\"question_icon.png\">\n",
        "        </td>\n",
        "        <td>\n",
        "            <div align=\"left\", style=\"font-size:120%\">\n",
        "                <font color=\"#21618C\">\n",
        "                    <b>15. Filter the marks from the tuple \"tmarks\" that are  greater than 40 and print corresponding names from the \"tnames\" tuple.</b><br><br>\n",
        "                </font>\n",
        "            </div>\n",
        "        </td>\n",
        "    </tr>\n",
        "</table>"
      ]
    },
    {
      "cell_type": "markdown",
      "metadata": {
        "id": "qzy5iga2Q4jp"
      },
      "source": [
        "<b>tnames = ('John','Sharon','Jack','Annie')</b><br>\n",
        "<b>tmarks = (32,50,75,12)</b>"
      ]
    },
    {
      "cell_type": "code",
      "execution_count": null,
      "metadata": {
        "id": "oIMffRzcQ4jp",
        "outputId": "0811f6fd-524c-4383-8c66-edeef128c699"
      },
      "outputs": [
        {
          "name": "stdout",
          "output_type": "stream",
          "text": [
            "Sharon\n",
            "Jack\n"
          ]
        }
      ],
      "source": [
        "tnames = ('John','Sharon','Jack','Annie')     # Tuple with names of the students\n",
        "tmarks = (32,50,75,12)                        # Tuplw with marks of the respective students from 'tnames'\n",
        "\n",
        "def filterMarks(x):                           # Creating a function to check if the marks are above 40. Returns Boolean value.\n",
        "    if x > 40:                                # Check if marks are greater than 40. If yes,\n",
        "        return True                           # Return True\n",
        "    else:                                     # Else return False\n",
        "        return False\n",
        "\n",
        "marks = list(filter(filterMarks, tmarks))     # A list of marks that are greater than 40 is stored in marks variable\n",
        "\n",
        "for j in marks:                               # Iterating through the marks list\n",
        "    print(tnames[tmarks.index(j)])            # Printing the name of students wrt the marks indices"
      ]
    },
    {
      "cell_type": "markdown",
      "metadata": {
        "id": "O0_S-gKRQ4jp"
      },
      "source": [
        "<table align=\"left\">\n",
        "    <tr>\n",
        "        <td width=\"6%\">\n",
        "            <img src=\"question_icon.png\">\n",
        "        </td>\n",
        "        <td>\n",
        "            <div align=\"left\", style=\"font-size:120%\">\n",
        "                <font color=\"#21618C\">\n",
        "                    <b> 16. A dictionary of names and their weights on earth is given. Find how much they will weigh on the moon. (Use map and lambda functions)</b><br>\n",
        "                </font>\n",
        "            </div>\n",
        "        </td>\n",
        "    </tr>\n",
        "</table>"
      ]
    },
    {
      "cell_type": "raw",
      "metadata": {
        "id": "W0dn8bbwQ4jp"
      },
      "source": [
        "WeightOnEarth = {'John':45, 'Shelly':65, 'Marry':35}       # Weight of people in kg\n",
        "GMoon = 1.622                                              # Gravitational force on the Moon: 1.622 m/s2\n",
        "GEarth = 9.81                                              # Gravitational force on the Earth: 9.81 m/s2\n",
        "\n",
        "Output:\n",
        "Weight on Moon:  {'John': 7.44, 'Shelly': 10.75, 'Marry': 5.79}"
      ]
    },
    {
      "cell_type": "code",
      "execution_count": null,
      "metadata": {
        "id": "o7T0gOqmQ4jp",
        "outputId": "b59c3932-e39d-44ba-dbdb-b93eebc706eb"
      },
      "outputs": [
        {
          "name": "stdout",
          "output_type": "stream",
          "text": [
            "Weight on Moon:  {'John': 7.44, 'Shelly': 10.75, 'Marry': 5.79}\n"
          ]
        }
      ],
      "source": [
        "WeightOnEarth = {'John':45, 'Shelly':65, 'Marry':35}       # Weight of people in kg\n",
        "GMoon = 1.622                                              # Gravitational force on the Moon: 1.622 m/s2\n",
        "GEarth = 9.81                                              # Gravitational force on the Earth: 9.81 m/s2\n",
        "\n",
        "# Returning a the weights on moon as a list\n",
        "# Formula : wMoon = (wEarth * GMoon) / GEarth\n",
        "WeightOnMoon = list(map(lambda x: round((x*GMoon)/GEarth,2), WeightOnEarth.values()))\n",
        "\n",
        "# Zipping (Combining) the keys of dictionary 'WeightOnEarth' and the values of the list 'WeightOnMoon'\n",
        "WeightOnMoon_dict = dict(zip(WeightOnEarth.keys(), WeightOnMoon))\n",
        "\n",
        "print('Weight on Moon: ', WeightOnMoon_dict)\n",
        "\n",
        "\n",
        "# Alternate formula for conversion\n",
        "# Weight on moon is approx. 1/6 th of the weight on earth\n",
        "# WeightOnMoon = list(map(lambda x: round(x / 6, 2), WeightOnEarth.values()))\n",
        "# WeightOnMoon"
      ]
    },
    {
      "cell_type": "markdown",
      "metadata": {
        "id": "QNiTWpC8Q4jp"
      },
      "source": [
        "<table align=\"left\">\n",
        "    <tr>\n",
        "        <td width=\"6%\">\n",
        "            <img src=\"question_icon.png\">\n",
        "        </td>\n",
        "        <td>\n",
        "            <div align=\"left\", style=\"font-size:120%\">\n",
        "                <font color=\"#21618C\">\n",
        "                    <b> 17. A list containing multiple lists is given. Convert each inner list into sets and find intersection of all the sets.</b><br><b>Use reduce function.</b>\n",
        "                </font>\n",
        "            </div>\n",
        "        </td>\n",
        "    </tr>\n",
        "</table>"
      ]
    },
    {
      "cell_type": "markdown",
      "metadata": {
        "id": "t2Nkv0TFQ4jp"
      },
      "source": [
        "<b>given_sets = [[1, 2, 3, 4, 8], [2, 3, 8, 5, 6], [8, 4, 5, 3, 7], [6, 9, 8, 3], [9, 12, 3, 7, 6, 8, 4, 6, 21, 1, 6]]</b><br>\n",
        "<b>Output: {8, 3}</b>"
      ]
    },
    {
      "cell_type": "code",
      "execution_count": null,
      "metadata": {
        "id": "MkvwVYCyQ4jp",
        "outputId": "e7485837-4394-4167-e821-5993eeedd4d2"
      },
      "outputs": [
        {
          "name": "stdout",
          "output_type": "stream",
          "text": [
            "{8, 3}\n"
          ]
        }
      ],
      "source": [
        "from functools import reduce\n",
        "given_sets = [[1, 2, 3, 4, 8], [2, 3, 8, 5, 6], [8, 4, 5, 3, 7], [6, 9, 8, 3], [9, 12, 3, 7, 6, 8, 4, 6, 21, 1, 6]]\n",
        "\n",
        "result_intersection = reduce(set.intersection, map(set, given_sets))\n",
        "print(result_intersection)"
      ]
    },
    {
      "cell_type": "markdown",
      "metadata": {
        "id": "1nfojI64Q4jq"
      },
      "source": [
        "<table align=\"left\">\n",
        "    <tr>\n",
        "        <td width=\"6%\">\n",
        "            <img src=\"question_icon.png\">\n",
        "        </td>\n",
        "        <td>\n",
        "            <div align=\"left\", style=\"font-size:120%\">\n",
        "                <font color=\"#21618C\">\n",
        "                    <b> 18. Count the number of characters in the string (given by the user) that are not present in the 'glstring'. Do not count the white spaces.</b><br>\n",
        "                    <br>\n",
        "                    <b> Use Recursion</b>\n",
        "                </font>\n",
        "            </div>\n",
        "        </td>\n",
        "    </tr>\n",
        "</table>"
      ]
    },
    {
      "cell_type": "markdown",
      "metadata": {
        "id": "lcPpNZWUQ4jq"
      },
      "source": [
        "<b>glstring = 'great'</b>"
      ]
    },
    {
      "cell_type": "code",
      "execution_count": null,
      "metadata": {
        "id": "mt-_d7FHQ4jq",
        "outputId": "2ee57c41-ca10-4de8-dc26-a7fabbc910b8"
      },
      "outputs": [
        {
          "name": "stdout",
          "output_type": "stream",
          "text": [
            "Enter a string: hello world\n"
          ]
        },
        {
          "data": {
            "text/plain": [
              "8"
            ]
          },
          "execution_count": 8,
          "metadata": {},
          "output_type": "execute_result"
        }
      ],
      "source": [
        "glstring = 'great'                     # Given string\n",
        "strUser = input('Enter a string: ')    # String from user\n",
        "\n",
        "def reccFilterFunc(str_inp):\n",
        "    if str_inp == '':                  # Ignoring white spaces\n",
        "        return 0\n",
        "    if str_inp[0].lower() not in glstring and str_inp[0].isalpha():    # Converting string characters to lowercase and checking if that character is not in glstring.\n",
        "        return 1 + reccFilterFunc(str_inp[1:])                         # Adding 1 to the output of reccFilterFunc. Here taking the parameter as the string starting from index 1\n",
        "    else:\n",
        "        return reccFilterFunc(str_inp[1:])                             # If the character is in glstring, then call recursion function without incrementing\n",
        "\n",
        "reccFilterFunc(strUser)                                                # Returns the count of the characters that are not present in the glstring"
      ]
    },
    {
      "cell_type": "markdown",
      "metadata": {
        "id": "fUC7RzhFQ4jq"
      },
      "source": [
        "<table align=\"left\">\n",
        "    <tr>\n",
        "        <td width=\"6%\">\n",
        "            <img src=\"question_icon.png\">\n",
        "        </td>\n",
        "        <td>\n",
        "            <div align=\"left\", style=\"font-size:120%\">\n",
        "                <font color=\"#21618C\">\n",
        "                    <b> 19. Two sets are given below. One set contains the name of players who played in World Cup 2011. The other set contains the name of playes who played in World Cup 2015.</b><br>\n",
        "                    <b>Perform the following operations:\n",
        "                    <ol type = '1'>\n",
        "                        <li> Find the list of all players who played in either 2011 or 2015 World Cup. </li>\n",
        "                        <li> Find the list of players who played for both 2011 and 2015 World Cup. </li>\n",
        "                        <li> Find the list of players who were 'not' the part of 2011 World Cup and played in 2015 World Cup</li>\n",
        "                     </ol>\n",
        "                    </b>  \n",
        "                </font>\n",
        "            </div>\n",
        "        </td>\n",
        "    </tr>\n",
        "</table>"
      ]
    },
    {
      "cell_type": "raw",
      "metadata": {
        "id": "wbqXQiR7Q4jq"
      },
      "source": [
        "WCup2011 = {'Dhoni', 'Sehwag', 'Raina', 'Tendulkar', 'Gambhir', 'Kohli', 'Yuvraj', 'Yufsuf'}\n",
        "WCup2015 = {'Dhoni', 'Dhawan', 'Raina', 'Rohit', 'Rahane', 'Kohli', 'Jadeja', 'Rayudu'}"
      ]
    },
    {
      "cell_type": "code",
      "execution_count": null,
      "metadata": {
        "id": "wC9Pn2iUQ4jq",
        "outputId": "5c84c061-c202-4054-cf9e-c7c3353ba910"
      },
      "outputs": [
        {
          "data": {
            "text/plain": [
              "{'Dhawan',\n",
              " 'Dhoni',\n",
              " 'Gambhir',\n",
              " 'Jadeja',\n",
              " 'Kohli',\n",
              " 'Rahane',\n",
              " 'Raina',\n",
              " 'Rayudu',\n",
              " 'Rohit',\n",
              " 'Sehwag',\n",
              " 'Tendulkar',\n",
              " 'Yufsuf',\n",
              " 'Yuvraj'}"
            ]
          },
          "execution_count": 10,
          "metadata": {},
          "output_type": "execute_result"
        }
      ],
      "source": [
        "# Solution 1.\n",
        "WCup2011.union(WCup2015)              # Performing Union Operation"
      ]
    },
    {
      "cell_type": "code",
      "execution_count": null,
      "metadata": {
        "id": "A2x5JttPQ4jq",
        "outputId": "1cc39f9a-5f3e-4d84-f0c6-025e81995d5a"
      },
      "outputs": [
        {
          "data": {
            "text/plain": [
              "{'Dhoni', 'Kohli', 'Raina'}"
            ]
          },
          "execution_count": 11,
          "metadata": {},
          "output_type": "execute_result"
        }
      ],
      "source": [
        "# Solution 2.\n",
        "WCup2011.intersection(WCup2015)       # Performing Intersection Operation"
      ]
    },
    {
      "cell_type": "code",
      "execution_count": null,
      "metadata": {
        "id": "rc4cz5b9Q4jq",
        "outputId": "9ff56954-16a2-4996-b902-6b2628c2b8d7"
      },
      "outputs": [
        {
          "data": {
            "text/plain": [
              "{'Dhawan', 'Jadeja', 'Rahane', 'Rayudu', 'Rohit'}"
            ]
          },
          "execution_count": 12,
          "metadata": {},
          "output_type": "execute_result"
        }
      ],
      "source": [
        "# Solution 3.\n",
        "WCup2015.difference(WCup2011)         # Performing Set Difference Operation"
      ]
    },
    {
      "cell_type": "markdown",
      "metadata": {
        "id": "TGe2d08UQ4jq"
      },
      "source": [
        "<table align=\"left\">\n",
        "    <tr>\n",
        "        <td width=\"6%\">\n",
        "            <img src=\"question_icon.png\">\n",
        "        </td>\n",
        "        <td>\n",
        "            <div align=\"left\", style=\"font-size:120%\">\n",
        "                <font color=\"#21618C\">\n",
        "                    <b> 20. Find the cumulative average of the list [9,8,7,6,5] using accumulate() and lambda function.</b><br>\n",
        "                </font>\n",
        "            </div>\n",
        "        </td>\n",
        "    </tr>\n",
        "</table>"
      ]
    },
    {
      "cell_type": "markdown",
      "metadata": {
        "id": "Yl43Ggr8Q4jq"
      },
      "source": [
        "<b>Input list: [9,8,7,6,5]</b>"
      ]
    },
    {
      "cell_type": "code",
      "execution_count": null,
      "metadata": {
        "id": "fqFfLZUCQ4jq",
        "outputId": "99a10731-feaa-4eac-e348-4a5f8c25c9f0"
      },
      "outputs": [
        {
          "name": "stdout",
          "output_type": "stream",
          "text": [
            "9\n",
            "8.5\n",
            "7.75\n",
            "6.875\n",
            "5.9375\n"
          ]
        }
      ],
      "source": [
        "from itertools import accumulate\n",
        "result = accumulate([9, 8, 7, 6, 5], lambda x, y: (x + y) / 2)      # Passing the list and the lambda function to find the average\n",
        "\n",
        "for res in result:              # Iterating through the result to see the each step\n",
        "    print(res)"
      ]
    }
  ],
  "metadata": {
    "kernelspec": {
      "display_name": "Python 3 (ipykernel)",
      "language": "python",
      "name": "python3"
    },
    "language_info": {
      "codemirror_mode": {
        "name": "ipython",
        "version": 3
      },
      "file_extension": ".py",
      "mimetype": "text/x-python",
      "name": "python",
      "nbconvert_exporter": "python",
      "pygments_lexer": "ipython3",
      "version": "3.9.7"
    },
    "colab": {
      "provenance": [],
      "include_colab_link": true
    }
  },
  "nbformat": 4,
  "nbformat_minor": 0
}