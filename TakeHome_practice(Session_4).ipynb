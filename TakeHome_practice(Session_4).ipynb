{
  "cells": [
    {
      "cell_type": "markdown",
      "metadata": {
        "id": "view-in-github",
        "colab_type": "text"
      },
      "source": [
        "<a href=\"https://colab.research.google.com/github/sumanthgm/Data-Structures-Python/blob/main/TakeHome_practice(Session_4).ipynb\" target=\"_parent\"><img src=\"https://colab.research.google.com/assets/colab-badge.svg\" alt=\"Open In Colab\"/></a>"
      ]
    },
    {
      "cell_type": "markdown",
      "metadata": {
        "id": "9z3XSU0IEAK0"
      },
      "source": [
        "<table align=\"left\" width=100%>\n",
        "    <tr>\n",
        "        <td width=\"10%\">\n",
        "            <img src=\"homework.png\">\n",
        "        </td>\n",
        "        <td>\n",
        "            <div align=\"center\">\n",
        "                <font color=\"#21618C\" size=8px>\n",
        "                  <b> TakeHome <br> (Session 4) </b>\n",
        "                </font>\n",
        "            </div>\n",
        "        </td>\n",
        "    </tr>\n",
        "</table>"
      ]
    },
    {
      "cell_type": "markdown",
      "metadata": {
        "id": "5eHvCfJ7EAK1"
      },
      "source": [
        "### Let's begin with some hands-on practice exercises"
      ]
    },
    {
      "cell_type": "markdown",
      "metadata": {
        "id": "H3UFUxfyEAK2"
      },
      "source": [
        "<table align=\"left\">\n",
        "    <tr>\n",
        "        <td width=\"6%\">\n",
        "            <img src=\"question_icon.png\">\n",
        "        </td>\n",
        "        <td>\n",
        "            <div align=\"left\", style=\"font-size:120%\">\n",
        "                <font color=\"#21618C\">\n",
        "                    <b> 1. Create a dictionary named 'europe_dict' which has names of countries in europe, their capital and their population.\n",
        "                    </b>\n",
        "                </font>\n",
        "            </div>\n",
        "        </td>\n",
        "    </tr>\n",
        "</table>"
      ]
    },
    {
      "cell_type": "code",
      "execution_count": null,
      "metadata": {
        "id": "1vOWKpu3EAK3",
        "outputId": "dd08b64a-f293-4854-865b-dcc2bb4802b0"
      },
      "outputs": [
        {
          "name": "stdout",
          "output_type": "stream",
          "text": [
            "   Country Capital  Population\n",
            "0    Spain  Madrid      46.770\n",
            "1   France   Paris      66.030\n",
            "2  Germany  Berlin      80.620\n",
            "3   Norway    Oslo       5.084\n"
          ]
        }
      ],
      "source": [
        "import pandas as pd\n",
        "\n",
        "europe_dict = {\n",
        "       \"Country\":[\"Spain\",\"France\",\"Germany\",\"Norway\"],\n",
        "       \"Capital\":[\"Madrid\",\"Paris\",\"Berlin\",\"Oslo\"],\n",
        "       \"Population\":[46.77,66.03,80.62,5.084]\n",
        "}\n",
        "\n",
        "europe_df = pd.DataFrame(europe_dict)\n",
        "\n",
        "print(europe_df)"
      ]
    },
    {
      "cell_type": "markdown",
      "metadata": {
        "id": "j8ZBL93XEAK8"
      },
      "source": [
        "<table align=\"left\">\n",
        "    <tr>\n",
        "        <td width=\"6%\">\n",
        "            <img src=\"question_icon.png\">\n",
        "        </td>\n",
        "        <td>\n",
        "            <div align=\"left\", style=\"font-size:120%\">\n",
        "                <font color=\"#21618C\">\n",
        "                    <b> 2. Use the data from question 1 and add a new column 'FamousFor'. The column should indicate what each country is famous for.\n",
        "                    </b>\n",
        "                </font>\n",
        "            </div>    \n",
        "        </td>\n",
        "    </tr>\n",
        "</table>"
      ]
    },
    {
      "cell_type": "code",
      "execution_count": null,
      "metadata": {
        "id": "DNyB__UREAK9",
        "outputId": "05d76fed-4ea4-4234-b744-b1c0d2f7f3ad"
      },
      "outputs": [
        {
          "name": "stdout",
          "output_type": "stream",
          "text": [
            "   Country Capital  Population     FamousFor\n",
            "0    Spain  Madrid      46.770      Football\n",
            "1   France   Paris      66.030  Eiffel Tower\n",
            "2  Germany  Berlin      80.620          Cars\n",
            "3   Norway    Oslo       5.084  Midnight sun\n"
          ]
        }
      ],
      "source": [
        "# add a new column\n",
        "europe_df['FamousFor'] = ['Football','Eiffel Tower','Cars','Midnight sun']\n",
        "print(europe_df)"
      ]
    },
    {
      "cell_type": "markdown",
      "metadata": {
        "id": "UE96WXN7EALA"
      },
      "source": [
        "**Note:** Assigning a column that doesn’t exist will create a new column."
      ]
    },
    {
      "cell_type": "markdown",
      "metadata": {
        "id": "8uwkQkwrEALA"
      },
      "source": [
        "<table align=\"left\">\n",
        "    <tr>\n",
        "        <td width=\"6%\">\n",
        "            <img src=\"question_icon.png\">\n",
        "        </td>\n",
        "        <td>\n",
        "            <div align=\"left\", style=\"font-size:120%\">\n",
        "                <font color=\"#21618C\">\n",
        "                    <b> 3. Use the data created in question 1, to do the following:\n",
        "                          <ol type = '1'>\n",
        "                              <li>  Access column 'Captial' by specifying the column number. </li>\n",
        "                              <li>  Access column 'Population' by specifying the column name.\n",
        "                              <li>  Access a country information </li>\n",
        "                    </b>\n",
        "                </font>\n",
        "            </div>\n",
        "        </td>\n",
        "    </tr>\n",
        "</table>"
      ]
    },
    {
      "cell_type": "code",
      "execution_count": null,
      "metadata": {
        "id": "0rZ8eLu3EALB",
        "outputId": "4b35c0b2-8a5a-4d00-95c8-9767e61260a8"
      },
      "outputs": [
        {
          "data": {
            "text/plain": [
              "0    Madrid\n",
              "1     Paris\n",
              "2    Berlin\n",
              "3      Oslo\n",
              "Name: Capital, dtype: object"
            ]
          },
          "execution_count": 4,
          "metadata": {
            "tags": []
          },
          "output_type": "execute_result"
        }
      ],
      "source": [
        "# 1. Access column 'Captial' by specifying the column number.\n",
        "\n",
        "europe_df.iloc[:,1]"
      ]
    },
    {
      "cell_type": "code",
      "execution_count": null,
      "metadata": {
        "id": "Oj7eDfWZEALE",
        "outputId": "68abeacd-d738-432e-bd91-ffa7f4fd751a"
      },
      "outputs": [
        {
          "data": {
            "text/plain": [
              "0    46.770\n",
              "1    66.030\n",
              "2    80.620\n",
              "3     5.084\n",
              "Name: Population, dtype: float64"
            ]
          },
          "execution_count": 5,
          "metadata": {
            "tags": []
          },
          "output_type": "execute_result"
        }
      ],
      "source": [
        "# 2. Access column 'Population' by specifying the column name.\n",
        "europe_df.Population\n",
        "\n",
        "# OR\n",
        "europe_df[\"Population\"]\n",
        "\n",
        "# Use any one command"
      ]
    },
    {
      "cell_type": "code",
      "execution_count": null,
      "metadata": {
        "id": "Xv3DxM4jEALJ",
        "outputId": "4b4f31d2-fa3f-4b1e-9500-d07554669510"
      },
      "outputs": [
        {
          "data": {
            "text/plain": [
              "Country             France\n",
              "Capital              Paris\n",
              "Population           66.03\n",
              "FamousFor     Eiffel Tower\n",
              "Name: 1, dtype: object"
            ]
          },
          "execution_count": 6,
          "metadata": {
            "tags": []
          },
          "output_type": "execute_result"
        }
      ],
      "source": [
        "# 3. Access a country information\n",
        "# Let's say we want access information for France\n",
        "\n",
        "europe_df.loc[1]"
      ]
    },
    {
      "cell_type": "markdown",
      "metadata": {
        "id": "cVdNW6S-EALO"
      },
      "source": [
        "<table align=\"left\">\n",
        "    <tr>\n",
        "        <td width=\"6%\">\n",
        "            <img src=\"question_icon.png\">\n",
        "        </td>\n",
        "        <td>\n",
        "            <div align=\"left\", style=\"font-size:120%\">\n",
        "                <font color=\"#21618C\">\n",
        "                    <b> 4. Read a csv file \"example.csv\", print it and also check its dimensions\n",
        "                    </b>\n",
        "                </font>\n",
        "            </div>\n",
        "        </td>\n",
        "    </tr>\n",
        "</table>"
      ]
    },
    {
      "cell_type": "code",
      "execution_count": null,
      "metadata": {
        "colab": {
          "base_uri": "https://localhost:8080/",
          "height": 176
        },
        "id": "ywc_Qn2TEALP",
        "outputId": "cdc565ce-6c7f-415f-9ed7-e91ff49ce7c2"
      },
      "outputs": [
        {
          "output_type": "error",
          "ename": "NameError",
          "evalue": "name 'pd' is not defined",
          "traceback": [
            "\u001b[0;31m---------------------------------------------------------------------------\u001b[0m",
            "\u001b[0;31mNameError\u001b[0m                                 Traceback (most recent call last)",
            "\u001b[0;32m<ipython-input-1-a5f985361913>\u001b[0m in \u001b[0;36m<cell line: 0>\u001b[0;34m()\u001b[0m\n\u001b[0;32m----> 1\u001b[0;31m \u001b[0mexample\u001b[0m \u001b[0;34m=\u001b[0m \u001b[0mpd\u001b[0m\u001b[0;34m.\u001b[0m\u001b[0mread_csv\u001b[0m\u001b[0;34m(\u001b[0m\u001b[0;34m\"example.csv\"\u001b[0m\u001b[0;34m)\u001b[0m\u001b[0;34m\u001b[0m\u001b[0;34m\u001b[0m\u001b[0m\n\u001b[0m\u001b[1;32m      2\u001b[0m \u001b[0;34m\u001b[0m\u001b[0m\n\u001b[1;32m      3\u001b[0m \u001b[0mprint\u001b[0m\u001b[0;34m(\u001b[0m\u001b[0mexample\u001b[0m\u001b[0;34m)\u001b[0m\u001b[0;34m\u001b[0m\u001b[0;34m\u001b[0m\u001b[0m\n",
            "\u001b[0;31mNameError\u001b[0m: name 'pd' is not defined"
          ]
        }
      ],
      "source": [
        "example = pd.read_csv(\"example.csv\")\n",
        "\n",
        "print(example)"
      ]
    },
    {
      "cell_type": "code",
      "execution_count": null,
      "metadata": {
        "id": "LttVlndyEALT",
        "outputId": "86a4bdd5-f863-49ad-f6fd-e6ba804b400d"
      },
      "outputs": [
        {
          "name": "stdout",
          "output_type": "stream",
          "text": [
            " The dataframe 'example' has 3 columns and 3 rows.\n"
          ]
        }
      ],
      "source": [
        "# check dimension/shape of the dataframe\n",
        "dimension = example.shape\n",
        "\n",
        "print(\" The dataframe 'example' has %d columns and %d rows.\" %(dimension[1], dimension[1]))"
      ]
    },
    {
      "cell_type": "markdown",
      "metadata": {
        "id": "JbL3YyTZEALW"
      },
      "source": [
        "<table align=\"left\">\n",
        "    <tr>\n",
        "        <td width=\"6%\">\n",
        "            <img src=\"question_icon.png\">\n",
        "        </td>\n",
        "        <td>\n",
        "            <div align=\"left\", style=\"font-size:120%\">\n",
        "                <font color=\"#21618C\">\n",
        "                    <b> 5. Create a new column BMI, calculate the BMI of persons based on their weight and height.\n",
        "                    </b>\n",
        "                </font>\n",
        "            </div>\n",
        "        </td>\n",
        "    </tr>\n",
        "</table>"
      ]
    },
    {
      "cell_type": "code",
      "execution_count": null,
      "metadata": {
        "id": "YIBAMiC5EALX",
        "outputId": "58eae3d3-1aa1-4f2d-d667-38292958417e"
      },
      "outputs": [
        {
          "name": "stdout",
          "output_type": "stream",
          "text": [
            "  Product ID  Cost Price  Selling Price  Profit\n",
            "0       45SD          60            135      75\n",
            "1       12PO          43            121      78\n",
            "2       54PL          78            150      72\n",
            "3       26PL          65            121      56\n",
            "4       68HG          50            132      82\n",
            "5       21ER         150            152       2\n",
            "6       10FG         132            165      33\n",
            "7       57HB         134            161      27\n",
            "8       75VB         109            124      15\n",
            "9      32HJH         121            152      31\n"
          ]
        }
      ],
      "source": [
        "profit = []\n",
        "for i in range(dimension[0]):\n",
        "    cp = example[\"Cost Price\"].iloc[i]\n",
        "    sp = example[\"Selling Price\"].iloc[i]\n",
        "    profit.append(sp - cp)\n",
        "\n",
        "# OR use the following to calculate profits\n",
        "# Profits = example[\"Selling Price\"] - example[\"Cost Price\"]\n",
        "\n",
        "example.insert(loc = 3 , column = 'Profit',value = profit)\n",
        "\n",
        "print(example)"
      ]
    },
    {
      "cell_type": "markdown",
      "metadata": {
        "id": "ty7eOvP7EALa"
      },
      "source": [
        "<table align=\"left\">\n",
        "    <tr>\n",
        "        <td width=\"6%\">\n",
        "            <img src=\"question_icon.png\">\n",
        "        </td>\n",
        "        <td>\n",
        "            <div align=\"left\", style=\"font-size:120%\">\n",
        "                <font color=\"#21618C\">\n",
        "                    <b> 6. Create a pandas series having values 4, 7, -5, 3, NAN and their index as d, b, a, c, e\n",
        "                    </b>\n",
        "                </font>\n",
        "            </div>\n",
        "        </td>\n",
        "    </tr>\n",
        "</table>"
      ]
    },
    {
      "cell_type": "code",
      "execution_count": null,
      "metadata": {
        "id": "yWsnWbhkEALa",
        "outputId": "5d5664ef-4c82-47c4-ab20-e1497ceb63c1"
      },
      "outputs": [
        {
          "name": "stdout",
          "output_type": "stream",
          "text": [
            "d    4.0\n",
            "b    7.0\n",
            "a   -5.0\n",
            "c    3.0\n",
            "e    NaN\n",
            "dtype: float64\n"
          ]
        }
      ],
      "source": [
        "import numpy as np\n",
        "\n",
        "series = pd.Series([4, 7, -5, 3, np.nan], index=['d', 'b', 'a', 'c',\"e\"])\n",
        "\n",
        "print(series)"
      ]
    },
    {
      "cell_type": "markdown",
      "metadata": {
        "id": "_4fpmyx3EALh"
      },
      "source": [
        "<table align=\"left\">\n",
        "    <tr>\n",
        "        <td width=\"6%\">\n",
        "            <img src=\"question_icon.png\">\n",
        "        </td>\n",
        "        <td>\n",
        "            <div align=\"left\", style=\"font-size:120%\">\n",
        "                <font color=\"#21618C\">\n",
        "                    <b> 7. Using the series in question 6, find:\n",
        "                        <ol type = '1'>\n",
        "                            <li> Find the minimum of all values </li>\n",
        "                            <li> Find the maximum of all value </li>\n",
        "                        </ol>\n",
        "                    </b>\n",
        "                </font>\n",
        "            </div>\n",
        "        </td>\n",
        "    </tr>\n",
        "</table>"
      ]
    },
    {
      "cell_type": "code",
      "execution_count": null,
      "metadata": {
        "id": "hZOY3YD2EALi",
        "outputId": "b3010d64-e51d-4f7a-c1e1-9bba1a8e138a"
      },
      "outputs": [
        {
          "data": {
            "text/plain": [
              "-5.0"
            ]
          },
          "execution_count": 11,
          "metadata": {
            "tags": []
          },
          "output_type": "execute_result"
        }
      ],
      "source": [
        "# the minimum of all values\n",
        "series.min()"
      ]
    },
    {
      "cell_type": "code",
      "execution_count": null,
      "metadata": {
        "id": "sgksuegoEALm",
        "outputId": "cb2972e1-9a5a-43ce-883f-752a665e2729"
      },
      "outputs": [
        {
          "data": {
            "text/plain": [
              "7.0"
            ]
          },
          "execution_count": 12,
          "metadata": {
            "tags": []
          },
          "output_type": "execute_result"
        }
      ],
      "source": [
        "# the maximum of all value\n",
        "series.max()"
      ]
    },
    {
      "cell_type": "markdown",
      "metadata": {
        "id": "5JRq8NSiEALq"
      },
      "source": [
        "<table align=\"left\">\n",
        "    <tr>\n",
        "        <td width=\"6%\">\n",
        "            <img src=\"question_icon.png\">\n",
        "        </td>\n",
        "        <td>\n",
        "            <div align=\"left\", style=\"font-size:120%\">\n",
        "                <font color=\"#21618C\">\n",
        "                    <b> 8. Using the series in question 6, sort:\n",
        "                         <ol type = '1'>\n",
        "                             <li>  the values in ascending order </li>\n",
        "                             <li>  the values in decending order  </li>\n",
        "                        </ol>\n",
        "                    </b>\n",
        "                </font>\n",
        "            </div>\n",
        "        </td>\n",
        "    </tr>\n",
        "</table>"
      ]
    },
    {
      "cell_type": "code",
      "execution_count": null,
      "metadata": {
        "id": "P59uXuRjEALr",
        "outputId": "5348df36-4725-412f-ee9e-75bfc942adf2"
      },
      "outputs": [
        {
          "data": {
            "text/plain": [
              "a   -5.0\n",
              "b    7.0\n",
              "c    3.0\n",
              "d    4.0\n",
              "e    NaN\n",
              "dtype: float64"
            ]
          },
          "execution_count": 13,
          "metadata": {
            "tags": []
          },
          "output_type": "execute_result"
        }
      ],
      "source": [
        "# sorting the values in ascending order\n",
        "series.sort_index(ascending=True)\n",
        "\n",
        "# the value for ascending is 'True' by default"
      ]
    },
    {
      "cell_type": "code",
      "execution_count": null,
      "metadata": {
        "id": "r6dM_JLTEALu",
        "outputId": "bc40d787-e39e-4c70-a10e-bcd7aa71d358"
      },
      "outputs": [
        {
          "data": {
            "text/plain": [
              "e    NaN\n",
              "d    4.0\n",
              "c    3.0\n",
              "b    7.0\n",
              "a   -5.0\n",
              "dtype: float64"
            ]
          },
          "execution_count": 14,
          "metadata": {
            "tags": []
          },
          "output_type": "execute_result"
        }
      ],
      "source": [
        "# sorting the values in decending order\n",
        "series.sort_index(ascending=False)"
      ]
    },
    {
      "cell_type": "markdown",
      "metadata": {
        "id": "leoiFP5DEALw"
      },
      "source": [
        "<table align=\"left\">\n",
        "    <tr>\n",
        "        <td width=\"6%\">\n",
        "            <img src=\"question_icon.png\">\n",
        "        </td>\n",
        "        <td>\n",
        "            <div align=\"left\", style=\"font-size:120%\">\n",
        "                <font color=\"#21618C\">\n",
        "                    <b> 9. Import dataset 'flights' from library seaborn. Print the first 10 rows and last 20 rows of the data set.\n",
        "                    </b>\n",
        "                </font>\n",
        "            </div>\n",
        "        </td>\n",
        "    </tr>\n",
        "</table>"
      ]
    },
    {
      "cell_type": "code",
      "execution_count": null,
      "metadata": {
        "id": "LXe-zZXZEALw"
      },
      "outputs": [],
      "source": [
        "# import required libraries\n",
        "import seaborn as sns\n",
        "\n",
        "# load the flights data set as flight\n",
        "flight = sns.load_dataset('flights')"
      ]
    },
    {
      "cell_type": "code",
      "execution_count": null,
      "metadata": {
        "id": "hUfNQWKJEALz",
        "outputId": "b7c18f82-0b5c-4977-9da5-b6125fd3b594"
      },
      "outputs": [
        {
          "data": {
            "text/html": [
              "<div>\n",
              "<style scoped>\n",
              "    .dataframe tbody tr th:only-of-type {\n",
              "        vertical-align: middle;\n",
              "    }\n",
              "\n",
              "    .dataframe tbody tr th {\n",
              "        vertical-align: top;\n",
              "    }\n",
              "\n",
              "    .dataframe thead th {\n",
              "        text-align: right;\n",
              "    }\n",
              "</style>\n",
              "<table border=\"1\" class=\"dataframe\">\n",
              "  <thead>\n",
              "    <tr style=\"text-align: right;\">\n",
              "      <th></th>\n",
              "      <th>year</th>\n",
              "      <th>month</th>\n",
              "      <th>passengers</th>\n",
              "    </tr>\n",
              "  </thead>\n",
              "  <tbody>\n",
              "    <tr>\n",
              "      <td>0</td>\n",
              "      <td>1949</td>\n",
              "      <td>January</td>\n",
              "      <td>112</td>\n",
              "    </tr>\n",
              "    <tr>\n",
              "      <td>1</td>\n",
              "      <td>1949</td>\n",
              "      <td>February</td>\n",
              "      <td>118</td>\n",
              "    </tr>\n",
              "    <tr>\n",
              "      <td>2</td>\n",
              "      <td>1949</td>\n",
              "      <td>March</td>\n",
              "      <td>132</td>\n",
              "    </tr>\n",
              "    <tr>\n",
              "      <td>3</td>\n",
              "      <td>1949</td>\n",
              "      <td>April</td>\n",
              "      <td>129</td>\n",
              "    </tr>\n",
              "    <tr>\n",
              "      <td>4</td>\n",
              "      <td>1949</td>\n",
              "      <td>May</td>\n",
              "      <td>121</td>\n",
              "    </tr>\n",
              "    <tr>\n",
              "      <td>5</td>\n",
              "      <td>1949</td>\n",
              "      <td>June</td>\n",
              "      <td>135</td>\n",
              "    </tr>\n",
              "    <tr>\n",
              "      <td>6</td>\n",
              "      <td>1949</td>\n",
              "      <td>July</td>\n",
              "      <td>148</td>\n",
              "    </tr>\n",
              "    <tr>\n",
              "      <td>7</td>\n",
              "      <td>1949</td>\n",
              "      <td>August</td>\n",
              "      <td>148</td>\n",
              "    </tr>\n",
              "    <tr>\n",
              "      <td>8</td>\n",
              "      <td>1949</td>\n",
              "      <td>September</td>\n",
              "      <td>136</td>\n",
              "    </tr>\n",
              "    <tr>\n",
              "      <td>9</td>\n",
              "      <td>1949</td>\n",
              "      <td>October</td>\n",
              "      <td>119</td>\n",
              "    </tr>\n",
              "  </tbody>\n",
              "</table>\n",
              "</div>"
            ],
            "text/plain": [
              "   year      month  passengers\n",
              "0  1949    January         112\n",
              "1  1949   February         118\n",
              "2  1949      March         132\n",
              "3  1949      April         129\n",
              "4  1949        May         121\n",
              "5  1949       June         135\n",
              "6  1949       July         148\n",
              "7  1949     August         148\n",
              "8  1949  September         136\n",
              "9  1949    October         119"
            ]
          },
          "execution_count": 16,
          "metadata": {
            "tags": []
          },
          "output_type": "execute_result"
        }
      ],
      "source": [
        "flight.head(10)"
      ]
    },
    {
      "cell_type": "code",
      "execution_count": null,
      "metadata": {
        "id": "hpcOb7FcEAL1",
        "outputId": "47726984-47b2-4010-cc34-75e07bc93717"
      },
      "outputs": [
        {
          "data": {
            "text/html": [
              "<div>\n",
              "<style scoped>\n",
              "    .dataframe tbody tr th:only-of-type {\n",
              "        vertical-align: middle;\n",
              "    }\n",
              "\n",
              "    .dataframe tbody tr th {\n",
              "        vertical-align: top;\n",
              "    }\n",
              "\n",
              "    .dataframe thead th {\n",
              "        text-align: right;\n",
              "    }\n",
              "</style>\n",
              "<table border=\"1\" class=\"dataframe\">\n",
              "  <thead>\n",
              "    <tr style=\"text-align: right;\">\n",
              "      <th></th>\n",
              "      <th>year</th>\n",
              "      <th>month</th>\n",
              "      <th>passengers</th>\n",
              "    </tr>\n",
              "  </thead>\n",
              "  <tbody>\n",
              "    <tr>\n",
              "      <td>124</td>\n",
              "      <td>1959</td>\n",
              "      <td>May</td>\n",
              "      <td>420</td>\n",
              "    </tr>\n",
              "    <tr>\n",
              "      <td>125</td>\n",
              "      <td>1959</td>\n",
              "      <td>June</td>\n",
              "      <td>472</td>\n",
              "    </tr>\n",
              "    <tr>\n",
              "      <td>126</td>\n",
              "      <td>1959</td>\n",
              "      <td>July</td>\n",
              "      <td>548</td>\n",
              "    </tr>\n",
              "    <tr>\n",
              "      <td>127</td>\n",
              "      <td>1959</td>\n",
              "      <td>August</td>\n",
              "      <td>559</td>\n",
              "    </tr>\n",
              "    <tr>\n",
              "      <td>128</td>\n",
              "      <td>1959</td>\n",
              "      <td>September</td>\n",
              "      <td>463</td>\n",
              "    </tr>\n",
              "    <tr>\n",
              "      <td>129</td>\n",
              "      <td>1959</td>\n",
              "      <td>October</td>\n",
              "      <td>407</td>\n",
              "    </tr>\n",
              "    <tr>\n",
              "      <td>130</td>\n",
              "      <td>1959</td>\n",
              "      <td>November</td>\n",
              "      <td>362</td>\n",
              "    </tr>\n",
              "    <tr>\n",
              "      <td>131</td>\n",
              "      <td>1959</td>\n",
              "      <td>December</td>\n",
              "      <td>405</td>\n",
              "    </tr>\n",
              "    <tr>\n",
              "      <td>132</td>\n",
              "      <td>1960</td>\n",
              "      <td>January</td>\n",
              "      <td>417</td>\n",
              "    </tr>\n",
              "    <tr>\n",
              "      <td>133</td>\n",
              "      <td>1960</td>\n",
              "      <td>February</td>\n",
              "      <td>391</td>\n",
              "    </tr>\n",
              "    <tr>\n",
              "      <td>134</td>\n",
              "      <td>1960</td>\n",
              "      <td>March</td>\n",
              "      <td>419</td>\n",
              "    </tr>\n",
              "    <tr>\n",
              "      <td>135</td>\n",
              "      <td>1960</td>\n",
              "      <td>April</td>\n",
              "      <td>461</td>\n",
              "    </tr>\n",
              "    <tr>\n",
              "      <td>136</td>\n",
              "      <td>1960</td>\n",
              "      <td>May</td>\n",
              "      <td>472</td>\n",
              "    </tr>\n",
              "    <tr>\n",
              "      <td>137</td>\n",
              "      <td>1960</td>\n",
              "      <td>June</td>\n",
              "      <td>535</td>\n",
              "    </tr>\n",
              "    <tr>\n",
              "      <td>138</td>\n",
              "      <td>1960</td>\n",
              "      <td>July</td>\n",
              "      <td>622</td>\n",
              "    </tr>\n",
              "    <tr>\n",
              "      <td>139</td>\n",
              "      <td>1960</td>\n",
              "      <td>August</td>\n",
              "      <td>606</td>\n",
              "    </tr>\n",
              "    <tr>\n",
              "      <td>140</td>\n",
              "      <td>1960</td>\n",
              "      <td>September</td>\n",
              "      <td>508</td>\n",
              "    </tr>\n",
              "    <tr>\n",
              "      <td>141</td>\n",
              "      <td>1960</td>\n",
              "      <td>October</td>\n",
              "      <td>461</td>\n",
              "    </tr>\n",
              "    <tr>\n",
              "      <td>142</td>\n",
              "      <td>1960</td>\n",
              "      <td>November</td>\n",
              "      <td>390</td>\n",
              "    </tr>\n",
              "    <tr>\n",
              "      <td>143</td>\n",
              "      <td>1960</td>\n",
              "      <td>December</td>\n",
              "      <td>432</td>\n",
              "    </tr>\n",
              "  </tbody>\n",
              "</table>\n",
              "</div>"
            ],
            "text/plain": [
              "     year      month  passengers\n",
              "124  1959        May         420\n",
              "125  1959       June         472\n",
              "126  1959       July         548\n",
              "127  1959     August         559\n",
              "128  1959  September         463\n",
              "129  1959    October         407\n",
              "130  1959   November         362\n",
              "131  1959   December         405\n",
              "132  1960    January         417\n",
              "133  1960   February         391\n",
              "134  1960      March         419\n",
              "135  1960      April         461\n",
              "136  1960        May         472\n",
              "137  1960       June         535\n",
              "138  1960       July         622\n",
              "139  1960     August         606\n",
              "140  1960  September         508\n",
              "141  1960    October         461\n",
              "142  1960   November         390\n",
              "143  1960   December         432"
            ]
          },
          "execution_count": 17,
          "metadata": {
            "tags": []
          },
          "output_type": "execute_result"
        }
      ],
      "source": [
        "flight.tail(20)"
      ]
    },
    {
      "cell_type": "markdown",
      "metadata": {
        "id": "mf_wBMYUEAL3"
      },
      "source": [
        "<table align=\"left\">\n",
        "    <tr>\n",
        "        <td width=\"6%\">\n",
        "            <img src=\"question_icon.png\">\n",
        "        </td>\n",
        "        <td>\n",
        "            <div align=\"left\", style=\"font-size:120%\">\n",
        "                <font color=\"#21618C\">\n",
        "                    <b> 10. Import dataset 'iris' from library seaborn. Check for datatypes of all variable.\n",
        "                    </b>\n",
        "                </font>\n",
        "            </div>\n",
        "        </td>\n",
        "    </tr>\n",
        "</table>"
      ]
    },
    {
      "cell_type": "code",
      "execution_count": null,
      "metadata": {
        "id": "Im9152EzEAL4"
      },
      "outputs": [],
      "source": [
        "# import required libraries\n",
        "import seaborn as sns\n",
        "\n",
        "# load the iris data set as iris\n",
        "iris = sns.load_dataset('iris')"
      ]
    },
    {
      "cell_type": "code",
      "execution_count": null,
      "metadata": {
        "id": "gA_OlytKEAL7",
        "outputId": "452f5ed0-a8cc-41ee-b8c6-0b68492fb14e"
      },
      "outputs": [
        {
          "data": {
            "text/plain": [
              "sepal_length    float64\n",
              "sepal_width     float64\n",
              "petal_length    float64\n",
              "petal_width     float64\n",
              "species          object\n",
              "dtype: object"
            ]
          },
          "execution_count": 19,
          "metadata": {
            "tags": []
          },
          "output_type": "execute_result"
        }
      ],
      "source": [
        "iris.dtypes"
      ]
    }
  ],
  "metadata": {
    "colab": {
      "provenance": [],
      "include_colab_link": true
    },
    "kernelspec": {
      "display_name": "Python 3",
      "language": "python",
      "name": "python3"
    },
    "language_info": {
      "codemirror_mode": {
        "name": "ipython",
        "version": 3
      },
      "file_extension": ".py",
      "mimetype": "text/x-python",
      "name": "python",
      "nbconvert_exporter": "python",
      "pygments_lexer": "ipython3",
      "version": "3.8.3"
    }
  },
  "nbformat": 4,
  "nbformat_minor": 0
}